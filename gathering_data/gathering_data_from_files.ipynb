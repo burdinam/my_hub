{
 "cells": [
  {
   "cell_type": "code",
   "execution_count": 1,
   "id": "3c333466",
   "metadata": {},
   "outputs": [],
   "source": [
    "#Load the required libraries\n",
    "\n",
    "import os\n",
    "from zipfile import ZipFile\n",
    "import pandas as pd\n",
    "\n",
    "import seaborn as sns\n",
    "import matplotlib.pyplot as plt\n",
    "\n",
    "%matplotlib inline "
   ]
  },
  {
   "cell_type": "code",
   "execution_count": 2,
   "id": "0def39ba",
   "metadata": {},
   "outputs": [],
   "source": [
    "#open zip\n",
    "archive = 'C:/Users/Ark/0_ANALYSIS/DA_projects/gathering_data/4_data.zip'\n",
    "zip_files = ZipFile(archive)\n",
    "# zip_f.infolist()"
   ]
  },
  {
   "cell_type": "code",
   "execution_count": 3,
   "id": "6419b62e",
   "metadata": {},
   "outputs": [],
   "source": [
    "# Read zip\n",
    "# [text_file.filename for text_file in zip_files.infolist() ]"
   ]
  },
  {
   "cell_type": "code",
   "execution_count": 4,
   "id": "7deae6d7",
   "metadata": {},
   "outputs": [],
   "source": [
    "# Extract zip\n",
    "import zipfile\n",
    "\n",
    "with zipfile.ZipFile(archive, 'r') as zip_file:\n",
    "    zip_file.extractall(\"C:/Users/Ark/0_ANALYSIS/DA_projects/gathering_data/\")"
   ]
  },
  {
   "cell_type": "code",
   "execution_count": 5,
   "id": "9ce7f2b5",
   "metadata": {},
   "outputs": [
    {
     "data": {
      "text/html": [
       "<div>\n",
       "<style scoped>\n",
       "    .dataframe tbody tr th:only-of-type {\n",
       "        vertical-align: middle;\n",
       "    }\n",
       "\n",
       "    .dataframe tbody tr th {\n",
       "        vertical-align: top;\n",
       "    }\n",
       "\n",
       "    .dataframe thead th {\n",
       "        text-align: right;\n",
       "    }\n",
       "</style>\n",
       "<table border=\"1\" class=\"dataframe\">\n",
       "  <thead>\n",
       "    <tr style=\"text-align: right;\">\n",
       "      <th></th>\n",
       "      <th>Unnamed: 0</th>\n",
       "      <th>product_id</th>\n",
       "      <th>quantity</th>\n",
       "    </tr>\n",
       "  </thead>\n",
       "  <tbody>\n",
       "    <tr>\n",
       "      <th>0</th>\n",
       "      <td>0</td>\n",
       "      <td>47</td>\n",
       "      <td>1</td>\n",
       "    </tr>\n",
       "    <tr>\n",
       "      <th>1</th>\n",
       "      <td>1</td>\n",
       "      <td>57</td>\n",
       "      <td>1</td>\n",
       "    </tr>\n",
       "    <tr>\n",
       "      <th>2</th>\n",
       "      <td>2</td>\n",
       "      <td>14</td>\n",
       "      <td>2</td>\n",
       "    </tr>\n",
       "    <tr>\n",
       "      <th>3</th>\n",
       "      <td>3</td>\n",
       "      <td>52</td>\n",
       "      <td>1</td>\n",
       "    </tr>\n",
       "    <tr>\n",
       "      <th>4</th>\n",
       "      <td>4</td>\n",
       "      <td>1</td>\n",
       "      <td>4</td>\n",
       "    </tr>\n",
       "    <tr>\n",
       "      <th>5</th>\n",
       "      <td>5</td>\n",
       "      <td>94</td>\n",
       "      <td>4</td>\n",
       "    </tr>\n",
       "  </tbody>\n",
       "</table>\n",
       "</div>"
      ],
      "text/plain": [
       "   Unnamed: 0  product_id  quantity\n",
       "0           0          47         1\n",
       "1           1          57         1\n",
       "2           2          14         2\n",
       "3           3          52         1\n",
       "4           4           1         4\n",
       "5           5          94         4"
      ]
     },
     "execution_count": 5,
     "metadata": {},
     "output_type": "execute_result"
    }
   ],
   "source": [
    "#Take a look on a file\n",
    "pd.read_csv(\"C:/Users/Ark/0_ANALYSIS/DA_projects/gathering_data/data/2020-12-03/Alexey_Smirnov/data.csv\")"
   ]
  },
  {
   "cell_type": "code",
   "execution_count": 6,
   "id": "a968088b",
   "metadata": {},
   "outputs": [],
   "source": [
    "# Work with files"
   ]
  },
  {
   "cell_type": "code",
   "execution_count": 7,
   "id": "d6d7b60e",
   "metadata": {},
   "outputs": [],
   "source": [
    "tree = os.walk('C:/Users/Ark/0_ANALYSIS/DA_projects/gathering_data/data/')"
   ]
  },
  {
   "cell_type": "code",
   "execution_count": 8,
   "id": "6f398d6d",
   "metadata": {},
   "outputs": [
    {
     "name": "stdout",
     "output_type": "stream",
     "text": [
      "('C:/Users/Ark/0_ANALYSIS/DA_projects/gathering_data/data/', ['2020-12-03', '2020-12-04', '2020-12-05', '2020-12-06', '2020-12-07', '2020-12-08', '2020-12-09'], [])\n",
      "('C:/Users/Ark/0_ANALYSIS/DA_projects/gathering_data/data/2020-12-03', ['Alexey_Smirnov', 'Anton_Petrov', 'Kirill_Petrov', 'Petr_Fedorov', 'Vasiliy_Ivanov', 'Vasiliy_Petrov'], [])\n",
      "('C:/Users/Ark/0_ANALYSIS/DA_projects/gathering_data/data/2020-12-03\\\\Alexey_Smirnov', [], ['data.csv'])\n",
      "('C:/Users/Ark/0_ANALYSIS/DA_projects/gathering_data/data/2020-12-03\\\\Anton_Petrov', [], ['data.csv'])\n",
      "('C:/Users/Ark/0_ANALYSIS/DA_projects/gathering_data/data/2020-12-03\\\\Kirill_Petrov', [], ['data.csv'])\n",
      "('C:/Users/Ark/0_ANALYSIS/DA_projects/gathering_data/data/2020-12-03\\\\Petr_Fedorov', [], ['data.csv'])\n",
      "('C:/Users/Ark/0_ANALYSIS/DA_projects/gathering_data/data/2020-12-03\\\\Vasiliy_Ivanov', [], ['data.csv'])\n",
      "('C:/Users/Ark/0_ANALYSIS/DA_projects/gathering_data/data/2020-12-03\\\\Vasiliy_Petrov', [], ['data.csv'])\n",
      "('C:/Users/Ark/0_ANALYSIS/DA_projects/gathering_data/data/2020-12-04', ['Alexey_Smirnov', 'Kirill_Fedorov', 'Petr_Fedorov', 'Petr_Ivanov', 'Petr_Smirnov', 'Rostislav_Fedorov', 'Rostislav_Ivanov', 'Rostislav_Smirnov', 'Vasiliy_Ivanov'], [])\n",
      "('C:/Users/Ark/0_ANALYSIS/DA_projects/gathering_data/data/2020-12-04\\\\Alexey_Smirnov', [], ['data.csv'])\n",
      "('C:/Users/Ark/0_ANALYSIS/DA_projects/gathering_data/data/2020-12-04\\\\Kirill_Fedorov', [], ['data.csv'])\n",
      "('C:/Users/Ark/0_ANALYSIS/DA_projects/gathering_data/data/2020-12-04\\\\Petr_Fedorov', [], ['data.csv'])\n",
      "('C:/Users/Ark/0_ANALYSIS/DA_projects/gathering_data/data/2020-12-04\\\\Petr_Ivanov', [], ['data.csv'])\n",
      "('C:/Users/Ark/0_ANALYSIS/DA_projects/gathering_data/data/2020-12-04\\\\Petr_Smirnov', [], ['data.csv'])\n",
      "('C:/Users/Ark/0_ANALYSIS/DA_projects/gathering_data/data/2020-12-04\\\\Rostislav_Fedorov', [], ['data.csv'])\n",
      "('C:/Users/Ark/0_ANALYSIS/DA_projects/gathering_data/data/2020-12-04\\\\Rostislav_Ivanov', [], ['data.csv'])\n",
      "('C:/Users/Ark/0_ANALYSIS/DA_projects/gathering_data/data/2020-12-04\\\\Rostislav_Smirnov', [], ['data.csv'])\n",
      "('C:/Users/Ark/0_ANALYSIS/DA_projects/gathering_data/data/2020-12-04\\\\Vasiliy_Ivanov', [], ['data.csv'])\n",
      "('C:/Users/Ark/0_ANALYSIS/DA_projects/gathering_data/data/2020-12-05', ['Alexey_Fedorov', 'Alexey_Petrov', 'Kirill_Smirnov', 'Petr_Ivanov', 'Petr_Smirnov', 'Rostislav_Smirnov'], [])\n",
      "('C:/Users/Ark/0_ANALYSIS/DA_projects/gathering_data/data/2020-12-05\\\\Alexey_Fedorov', [], ['data.csv'])\n",
      "('C:/Users/Ark/0_ANALYSIS/DA_projects/gathering_data/data/2020-12-05\\\\Alexey_Petrov', [], ['data.csv'])\n",
      "('C:/Users/Ark/0_ANALYSIS/DA_projects/gathering_data/data/2020-12-05\\\\Kirill_Smirnov', [], ['data.csv'])\n",
      "('C:/Users/Ark/0_ANALYSIS/DA_projects/gathering_data/data/2020-12-05\\\\Petr_Ivanov', [], ['data.csv'])\n",
      "('C:/Users/Ark/0_ANALYSIS/DA_projects/gathering_data/data/2020-12-05\\\\Petr_Smirnov', [], ['data.csv'])\n",
      "('C:/Users/Ark/0_ANALYSIS/DA_projects/gathering_data/data/2020-12-05\\\\Rostislav_Smirnov', [], ['data.csv'])\n",
      "('C:/Users/Ark/0_ANALYSIS/DA_projects/gathering_data/data/2020-12-06', ['Vasiliy_Fedorov'], [])\n",
      "('C:/Users/Ark/0_ANALYSIS/DA_projects/gathering_data/data/2020-12-06\\\\Vasiliy_Fedorov', [], ['data.csv'])\n",
      "('C:/Users/Ark/0_ANALYSIS/DA_projects/gathering_data/data/2020-12-07', ['Alexey_Fedorov', 'Alexey_Ivanov', 'Alexey_Smirnov', 'Anton_Ivanov', 'Anton_Smirnov', 'Kirill_Fedorov', 'Petr_Fedorov', 'Petr_Smirnov', 'Rostislav_Fedorov', 'Vasiliy_Ivanov'], [])\n",
      "('C:/Users/Ark/0_ANALYSIS/DA_projects/gathering_data/data/2020-12-07\\\\Alexey_Fedorov', [], ['data.csv'])\n",
      "('C:/Users/Ark/0_ANALYSIS/DA_projects/gathering_data/data/2020-12-07\\\\Alexey_Ivanov', [], ['data.csv'])\n",
      "('C:/Users/Ark/0_ANALYSIS/DA_projects/gathering_data/data/2020-12-07\\\\Alexey_Smirnov', [], ['data.csv'])\n",
      "('C:/Users/Ark/0_ANALYSIS/DA_projects/gathering_data/data/2020-12-07\\\\Anton_Ivanov', [], ['data.csv'])\n",
      "('C:/Users/Ark/0_ANALYSIS/DA_projects/gathering_data/data/2020-12-07\\\\Anton_Smirnov', [], ['data.csv'])\n",
      "('C:/Users/Ark/0_ANALYSIS/DA_projects/gathering_data/data/2020-12-07\\\\Kirill_Fedorov', [], ['data.csv'])\n",
      "('C:/Users/Ark/0_ANALYSIS/DA_projects/gathering_data/data/2020-12-07\\\\Petr_Fedorov', [], ['data.csv'])\n",
      "('C:/Users/Ark/0_ANALYSIS/DA_projects/gathering_data/data/2020-12-07\\\\Petr_Smirnov', [], ['data.csv'])\n",
      "('C:/Users/Ark/0_ANALYSIS/DA_projects/gathering_data/data/2020-12-07\\\\Rostislav_Fedorov', [], ['data.csv'])\n",
      "('C:/Users/Ark/0_ANALYSIS/DA_projects/gathering_data/data/2020-12-07\\\\Vasiliy_Ivanov', [], ['data.csv'])\n",
      "('C:/Users/Ark/0_ANALYSIS/DA_projects/gathering_data/data/2020-12-08', ['Alexey_Fedorov', 'Anton_Smirnov', 'Kirill_Smirnov', 'Petr_Petrov', 'Rostislav_Petrov'], [])\n",
      "('C:/Users/Ark/0_ANALYSIS/DA_projects/gathering_data/data/2020-12-08\\\\Alexey_Fedorov', [], ['data.csv'])\n",
      "('C:/Users/Ark/0_ANALYSIS/DA_projects/gathering_data/data/2020-12-08\\\\Anton_Smirnov', [], ['data.csv'])\n",
      "('C:/Users/Ark/0_ANALYSIS/DA_projects/gathering_data/data/2020-12-08\\\\Kirill_Smirnov', [], ['data.csv'])\n",
      "('C:/Users/Ark/0_ANALYSIS/DA_projects/gathering_data/data/2020-12-08\\\\Petr_Petrov', [], ['data.csv'])\n",
      "('C:/Users/Ark/0_ANALYSIS/DA_projects/gathering_data/data/2020-12-08\\\\Rostislav_Petrov', [], ['data.csv'])\n",
      "('C:/Users/Ark/0_ANALYSIS/DA_projects/gathering_data/data/2020-12-09', ['Alexey_Smirnov', 'Anton_Ivanov', 'Anton_Petrov', 'Anton_Smirnov', 'Petr_Fedorov', 'Rostislav_Petrov', 'Vasiliy_Ivanov'], [])\n",
      "('C:/Users/Ark/0_ANALYSIS/DA_projects/gathering_data/data/2020-12-09\\\\Alexey_Smirnov', [], ['data.csv'])\n",
      "('C:/Users/Ark/0_ANALYSIS/DA_projects/gathering_data/data/2020-12-09\\\\Anton_Ivanov', [], ['data.csv'])\n",
      "('C:/Users/Ark/0_ANALYSIS/DA_projects/gathering_data/data/2020-12-09\\\\Anton_Petrov', [], ['data.csv'])\n",
      "('C:/Users/Ark/0_ANALYSIS/DA_projects/gathering_data/data/2020-12-09\\\\Anton_Smirnov', [], ['data.csv'])\n",
      "('C:/Users/Ark/0_ANALYSIS/DA_projects/gathering_data/data/2020-12-09\\\\Petr_Fedorov', [], ['data.csv'])\n",
      "('C:/Users/Ark/0_ANALYSIS/DA_projects/gathering_data/data/2020-12-09\\\\Rostislav_Petrov', [], ['data.csv'])\n",
      "('C:/Users/Ark/0_ANALYSIS/DA_projects/gathering_data/data/2020-12-09\\\\Vasiliy_Ivanov', [], ['data.csv'])\n"
     ]
    }
   ],
   "source": [
    "for item in tree:\n",
    "    print(item)"
   ]
  },
  {
   "cell_type": "code",
   "execution_count": 9,
   "id": "d5bc93a8",
   "metadata": {},
   "outputs": [],
   "source": [
    "#Collect paths together\n",
    "tree = os.walk('C:/Users/Ark/0_ANALYSIS/DA_projects/gathering_data/data/')\n",
    "data_files = []\n",
    "target_file = 'data.csv'\n",
    "\n",
    "#look for files and paths\n",
    "for item in tree:\n",
    "    files = item[-1]\n",
    "    \n",
    "    #join files if it contains .csv\n",
    "    if len(files) > 0 and target_file in files:\n",
    "        path = os.path.join(item[0], target_file)\n",
    "        data_files.append(path)"
   ]
  },
  {
   "cell_type": "code",
   "execution_count": 10,
   "id": "88167187",
   "metadata": {},
   "outputs": [
    {
     "data": {
      "text/plain": [
       "['C:/Users/Ark/0_ANALYSIS/DA_projects/gathering_data/data/2020-12-03\\\\Alexey_Smirnov\\\\data.csv',\n",
       " 'C:/Users/Ark/0_ANALYSIS/DA_projects/gathering_data/data/2020-12-03\\\\Anton_Petrov\\\\data.csv',\n",
       " 'C:/Users/Ark/0_ANALYSIS/DA_projects/gathering_data/data/2020-12-03\\\\Kirill_Petrov\\\\data.csv',\n",
       " 'C:/Users/Ark/0_ANALYSIS/DA_projects/gathering_data/data/2020-12-03\\\\Petr_Fedorov\\\\data.csv',\n",
       " 'C:/Users/Ark/0_ANALYSIS/DA_projects/gathering_data/data/2020-12-03\\\\Vasiliy_Ivanov\\\\data.csv']"
      ]
     },
     "execution_count": 10,
     "metadata": {},
     "output_type": "execute_result"
    }
   ],
   "source": [
    "data_files[:5]"
   ]
  },
  {
   "cell_type": "code",
   "execution_count": 11,
   "id": "fdcd9041",
   "metadata": {},
   "outputs": [],
   "source": [
    "data_files_df = []\n",
    "\n",
    "for path in data_files:\n",
    "    df = pd.read_csv(path, index_col = 0)\n",
    "    \n",
    "    #assign name and date\n",
    "    name = path.split('\\\\')[1]\n",
    "    date = path.split('/')[7][:10]\n",
    "\n",
    "    df['name'] = name\n",
    "    df['date'] = date\n",
    "    data_files_df.append(df)"
   ]
  },
  {
   "cell_type": "code",
   "execution_count": 119,
   "id": "2c759648",
   "metadata": {},
   "outputs": [],
   "source": [
    "#gather lists together\n",
    "df = pd.concat(data_files_df, ignore_index=True)"
   ]
  },
  {
   "cell_type": "code",
   "execution_count": 120,
   "id": "754c7b28",
   "metadata": {},
   "outputs": [
    {
     "data": {
      "text/html": [
       "<div>\n",
       "<style scoped>\n",
       "    .dataframe tbody tr th:only-of-type {\n",
       "        vertical-align: middle;\n",
       "    }\n",
       "\n",
       "    .dataframe tbody tr th {\n",
       "        vertical-align: top;\n",
       "    }\n",
       "\n",
       "    .dataframe thead th {\n",
       "        text-align: right;\n",
       "    }\n",
       "</style>\n",
       "<table border=\"1\" class=\"dataframe\">\n",
       "  <thead>\n",
       "    <tr style=\"text-align: right;\">\n",
       "      <th></th>\n",
       "      <th>product_id</th>\n",
       "      <th>quantity</th>\n",
       "      <th>name</th>\n",
       "      <th>date</th>\n",
       "    </tr>\n",
       "  </thead>\n",
       "  <tbody>\n",
       "    <tr>\n",
       "      <th>0</th>\n",
       "      <td>47</td>\n",
       "      <td>1</td>\n",
       "      <td>Alexey_Smirnov</td>\n",
       "      <td>2020-12-03</td>\n",
       "    </tr>\n",
       "    <tr>\n",
       "      <th>1</th>\n",
       "      <td>57</td>\n",
       "      <td>1</td>\n",
       "      <td>Alexey_Smirnov</td>\n",
       "      <td>2020-12-03</td>\n",
       "    </tr>\n",
       "    <tr>\n",
       "      <th>2</th>\n",
       "      <td>14</td>\n",
       "      <td>2</td>\n",
       "      <td>Alexey_Smirnov</td>\n",
       "      <td>2020-12-03</td>\n",
       "    </tr>\n",
       "    <tr>\n",
       "      <th>3</th>\n",
       "      <td>52</td>\n",
       "      <td>1</td>\n",
       "      <td>Alexey_Smirnov</td>\n",
       "      <td>2020-12-03</td>\n",
       "    </tr>\n",
       "    <tr>\n",
       "      <th>4</th>\n",
       "      <td>1</td>\n",
       "      <td>4</td>\n",
       "      <td>Alexey_Smirnov</td>\n",
       "      <td>2020-12-03</td>\n",
       "    </tr>\n",
       "    <tr>\n",
       "      <th>...</th>\n",
       "      <td>...</td>\n",
       "      <td>...</td>\n",
       "      <td>...</td>\n",
       "      <td>...</td>\n",
       "    </tr>\n",
       "    <tr>\n",
       "      <th>156</th>\n",
       "      <td>66</td>\n",
       "      <td>4</td>\n",
       "      <td>Rostislav_Petrov</td>\n",
       "      <td>2020-12-09</td>\n",
       "    </tr>\n",
       "    <tr>\n",
       "      <th>157</th>\n",
       "      <td>39</td>\n",
       "      <td>2</td>\n",
       "      <td>Rostislav_Petrov</td>\n",
       "      <td>2020-12-09</td>\n",
       "    </tr>\n",
       "    <tr>\n",
       "      <th>158</th>\n",
       "      <td>82</td>\n",
       "      <td>4</td>\n",
       "      <td>Vasiliy_Ivanov</td>\n",
       "      <td>2020-12-09</td>\n",
       "    </tr>\n",
       "    <tr>\n",
       "      <th>159</th>\n",
       "      <td>74</td>\n",
       "      <td>2</td>\n",
       "      <td>Vasiliy_Ivanov</td>\n",
       "      <td>2020-12-09</td>\n",
       "    </tr>\n",
       "    <tr>\n",
       "      <th>160</th>\n",
       "      <td>54</td>\n",
       "      <td>3</td>\n",
       "      <td>Vasiliy_Ivanov</td>\n",
       "      <td>2020-12-09</td>\n",
       "    </tr>\n",
       "  </tbody>\n",
       "</table>\n",
       "<p>161 rows × 4 columns</p>\n",
       "</div>"
      ],
      "text/plain": [
       "     product_id  quantity              name        date\n",
       "0            47         1    Alexey_Smirnov  2020-12-03\n",
       "1            57         1    Alexey_Smirnov  2020-12-03\n",
       "2            14         2    Alexey_Smirnov  2020-12-03\n",
       "3            52         1    Alexey_Smirnov  2020-12-03\n",
       "4             1         4    Alexey_Smirnov  2020-12-03\n",
       "..          ...       ...               ...         ...\n",
       "156          66         4  Rostislav_Petrov  2020-12-09\n",
       "157          39         2  Rostislav_Petrov  2020-12-09\n",
       "158          82         4    Vasiliy_Ivanov  2020-12-09\n",
       "159          74         2    Vasiliy_Ivanov  2020-12-09\n",
       "160          54         3    Vasiliy_Ivanov  2020-12-09\n",
       "\n",
       "[161 rows x 4 columns]"
      ]
     },
     "execution_count": 120,
     "metadata": {},
     "output_type": "execute_result"
    }
   ],
   "source": [
    "df"
   ]
  },
  {
   "cell_type": "code",
   "execution_count": 121,
   "id": "70078b7c",
   "metadata": {},
   "outputs": [],
   "source": [
    "#Data analysis"
   ]
  },
  {
   "cell_type": "code",
   "execution_count": 123,
   "id": "05ba4c81",
   "metadata": {},
   "outputs": [
    {
     "data": {
      "text/html": [
       "<div>\n",
       "<style scoped>\n",
       "    .dataframe tbody tr th:only-of-type {\n",
       "        vertical-align: middle;\n",
       "    }\n",
       "\n",
       "    .dataframe tbody tr th {\n",
       "        vertical-align: top;\n",
       "    }\n",
       "\n",
       "    .dataframe thead th {\n",
       "        text-align: right;\n",
       "    }\n",
       "</style>\n",
       "<table border=\"1\" class=\"dataframe\">\n",
       "  <thead>\n",
       "    <tr style=\"text-align: right;\">\n",
       "      <th></th>\n",
       "      <th>name</th>\n",
       "      <th>quantity</th>\n",
       "    </tr>\n",
       "  </thead>\n",
       "  <tbody>\n",
       "    <tr>\n",
       "      <th>3</th>\n",
       "      <td>Alexey_Smirnov</td>\n",
       "      <td>52</td>\n",
       "    </tr>\n",
       "    <tr>\n",
       "      <th>13</th>\n",
       "      <td>Petr_Smirnov</td>\n",
       "      <td>52</td>\n",
       "    </tr>\n",
       "    <tr>\n",
       "      <th>6</th>\n",
       "      <td>Anton_Smirnov</td>\n",
       "      <td>45</td>\n",
       "    </tr>\n",
       "    <tr>\n",
       "      <th>10</th>\n",
       "      <td>Petr_Fedorov</td>\n",
       "      <td>34</td>\n",
       "    </tr>\n",
       "    <tr>\n",
       "      <th>7</th>\n",
       "      <td>Kirill_Fedorov</td>\n",
       "      <td>28</td>\n",
       "    </tr>\n",
       "  </tbody>\n",
       "</table>\n",
       "</div>"
      ],
      "text/plain": [
       "              name  quantity\n",
       "3   Alexey_Smirnov        52\n",
       "13    Petr_Smirnov        52\n",
       "6    Anton_Smirnov        45\n",
       "10    Petr_Fedorov        34\n",
       "7   Kirill_Fedorov        28"
      ]
     },
     "execution_count": 123,
     "metadata": {},
     "output_type": "execute_result"
    }
   ],
   "source": [
    "#Who buys the most?\n",
    "top_buyers = df\\\n",
    "    .groupby(\"name\", as_index=False)\\\n",
    "    .agg({\"quantity\":\"sum\"})\\\n",
    "    .sort_values(\"quantity\", ascending=False)\n",
    "top_buyers.head()"
   ]
  },
  {
   "cell_type": "code",
   "execution_count": 130,
   "id": "4e23cc73",
   "metadata": {},
   "outputs": [
    {
     "data": {
      "text/html": [
       "<div>\n",
       "<style scoped>\n",
       "    .dataframe tbody tr th:only-of-type {\n",
       "        vertical-align: middle;\n",
       "    }\n",
       "\n",
       "    .dataframe tbody tr th {\n",
       "        vertical-align: top;\n",
       "    }\n",
       "\n",
       "    .dataframe thead th {\n",
       "        text-align: right;\n",
       "    }\n",
       "</style>\n",
       "<table border=\"1\" class=\"dataframe\">\n",
       "  <thead>\n",
       "    <tr style=\"text-align: right;\">\n",
       "      <th></th>\n",
       "      <th>product_id</th>\n",
       "      <th>quantity</th>\n",
       "    </tr>\n",
       "  </thead>\n",
       "  <tbody>\n",
       "    <tr>\n",
       "      <th>22</th>\n",
       "      <td>27</td>\n",
       "      <td>20</td>\n",
       "    </tr>\n",
       "    <tr>\n",
       "      <th>42</th>\n",
       "      <td>56</td>\n",
       "      <td>18</td>\n",
       "    </tr>\n",
       "    <tr>\n",
       "      <th>21</th>\n",
       "      <td>24</td>\n",
       "      <td>15</td>\n",
       "    </tr>\n",
       "    <tr>\n",
       "      <th>51</th>\n",
       "      <td>74</td>\n",
       "      <td>15</td>\n",
       "    </tr>\n",
       "    <tr>\n",
       "      <th>32</th>\n",
       "      <td>41</td>\n",
       "      <td>14</td>\n",
       "    </tr>\n",
       "    <tr>\n",
       "      <th>27</th>\n",
       "      <td>34</td>\n",
       "      <td>13</td>\n",
       "    </tr>\n",
       "    <tr>\n",
       "      <th>66</th>\n",
       "      <td>94</td>\n",
       "      <td>13</td>\n",
       "    </tr>\n",
       "    <tr>\n",
       "      <th>46</th>\n",
       "      <td>66</td>\n",
       "      <td>13</td>\n",
       "    </tr>\n",
       "    <tr>\n",
       "      <th>65</th>\n",
       "      <td>92</td>\n",
       "      <td>12</td>\n",
       "    </tr>\n",
       "    <tr>\n",
       "      <th>38</th>\n",
       "      <td>50</td>\n",
       "      <td>12</td>\n",
       "    </tr>\n",
       "  </tbody>\n",
       "</table>\n",
       "</div>"
      ],
      "text/plain": [
       "    product_id  quantity\n",
       "22          27        20\n",
       "42          56        18\n",
       "21          24        15\n",
       "51          74        15\n",
       "32          41        14\n",
       "27          34        13\n",
       "66          94        13\n",
       "46          66        13\n",
       "65          92        12\n",
       "38          50        12"
      ]
     },
     "execution_count": 130,
     "metadata": {},
     "output_type": "execute_result"
    }
   ],
   "source": [
    "#top 10 bestsellers\n",
    "top_10_bestsellers = df\\\n",
    "    .groupby(\"product_id\", as_index=False)\\\n",
    "    .agg({\"quantity\":\"sum\"})\\\n",
    "    .sort_values(\"quantity\", ascending=False)\\\n",
    "    .head(10)\n",
    "\n",
    "top_10_bestsellers"
   ]
  },
  {
   "cell_type": "code",
   "execution_count": 136,
   "id": "ce0ad6f8",
   "metadata": {},
   "outputs": [
    {
     "data": {
      "text/plain": [
       "Text(0.5, 1.0, 'top 10 bestsellers')"
      ]
     },
     "execution_count": 136,
     "metadata": {},
     "output_type": "execute_result"
    },
    {
     "data": {
      "image/png": "[encoded data removed]",
      "text/plain": [
       "<Figure size 1700x500 with 1 Axes>"
      ]
     },
     "metadata": {},
     "output_type": "display_data"
    }
   ],
   "source": [
    "# sales by product_id\n",
    "plt.figure(figsize=(17, 5))\n",
    "ax = sns.barplot(data=top_10_bestsellers, x = \"product_id\", y = \"quantity\", \n",
    "                 order=top_10_bestsellers.sort_values(\"quantity\").product_id)\n",
    "\n",
    "ax.bar_label(ax.containers[0])\n",
    "ax.set_title('top 10 bestsellers')"
   ]
  },
  {
   "cell_type": "code",
   "execution_count": 137,
   "id": "c4babf5e",
   "metadata": {},
   "outputs": [],
   "source": [
    "#sales by days"
   ]
  },
  {
   "cell_type": "code",
   "execution_count": 140,
   "id": "2fa61a69",
   "metadata": {},
   "outputs": [
    {
     "data": {
      "text/plain": [
       "array(['2020-12-03', '2020-12-04', '2020-12-05', '2020-12-06',\n",
       "       '2020-12-07', '2020-12-08', '2020-12-09'], dtype=object)"
      ]
     },
     "execution_count": 140,
     "metadata": {},
     "output_type": "execute_result"
    }
   ],
   "source": [
    "df.date.unique()"
   ]
  },
  {
   "cell_type": "code",
   "execution_count": 144,
   "id": "80dc70ab",
   "metadata": {},
   "outputs": [
    {
     "data": {
      "text/html": [
       "<div>\n",
       "<style scoped>\n",
       "    .dataframe tbody tr th:only-of-type {\n",
       "        vertical-align: middle;\n",
       "    }\n",
       "\n",
       "    .dataframe tbody tr th {\n",
       "        vertical-align: top;\n",
       "    }\n",
       "\n",
       "    .dataframe thead th {\n",
       "        text-align: right;\n",
       "    }\n",
       "</style>\n",
       "<table border=\"1\" class=\"dataframe\">\n",
       "  <thead>\n",
       "    <tr style=\"text-align: right;\">\n",
       "      <th></th>\n",
       "      <th>date</th>\n",
       "      <th>quantity</th>\n",
       "    </tr>\n",
       "  </thead>\n",
       "  <tbody>\n",
       "    <tr>\n",
       "      <th>0</th>\n",
       "      <td>2020-12-03</td>\n",
       "      <td>60</td>\n",
       "    </tr>\n",
       "    <tr>\n",
       "      <th>1</th>\n",
       "      <td>2020-12-04</td>\n",
       "      <td>113</td>\n",
       "    </tr>\n",
       "    <tr>\n",
       "      <th>2</th>\n",
       "      <td>2020-12-05</td>\n",
       "      <td>61</td>\n",
       "    </tr>\n",
       "    <tr>\n",
       "      <th>3</th>\n",
       "      <td>2020-12-06</td>\n",
       "      <td>15</td>\n",
       "    </tr>\n",
       "    <tr>\n",
       "      <th>4</th>\n",
       "      <td>2020-12-07</td>\n",
       "      <td>94</td>\n",
       "    </tr>\n",
       "    <tr>\n",
       "      <th>5</th>\n",
       "      <td>2020-12-08</td>\n",
       "      <td>68</td>\n",
       "    </tr>\n",
       "    <tr>\n",
       "      <th>6</th>\n",
       "      <td>2020-12-09</td>\n",
       "      <td>69</td>\n",
       "    </tr>\n",
       "  </tbody>\n",
       "</table>\n",
       "</div>"
      ],
      "text/plain": [
       "         date  quantity\n",
       "0  2020-12-03        60\n",
       "1  2020-12-04       113\n",
       "2  2020-12-05        61\n",
       "3  2020-12-06        15\n",
       "4  2020-12-07        94\n",
       "5  2020-12-08        68\n",
       "6  2020-12-09        69"
      ]
     },
     "execution_count": 144,
     "metadata": {},
     "output_type": "execute_result"
    }
   ],
   "source": [
    "sales_by_days = df\\\n",
    "    .groupby(\"date\", as_index = False)\\\n",
    "    .agg({\"quantity\":\"sum\"})\\\n",
    "    .sort_values(\"date\", ascending=True)\n",
    "\n",
    "sales_by_days"
   ]
  },
  {
   "cell_type": "code",
   "execution_count": 145,
   "id": "e98e5948",
   "metadata": {},
   "outputs": [
    {
     "data": {
      "text/plain": [
       "[Text(0, 0, '60'),\n",
       " Text(0, 0, '113'),\n",
       " Text(0, 0, '61'),\n",
       " Text(0, 0, '15'),\n",
       " Text(0, 0, '94'),\n",
       " Text(0, 0, '68'),\n",
       " Text(0, 0, '69')]"
      ]
     },
     "execution_count": 145,
     "metadata": {},
     "output_type": "execute_result"
    },
    {
     "data": {
      "image/png": "[encoded data removed]",
      "text/plain": [
       "<Figure size 1700x500 with 1 Axes>"
      ]
     },
     "metadata": {},
     "output_type": "display_data"
    }
   ],
   "source": [
    "# sales by days\n",
    "plt.figure(figsize=(17, 5))\n",
    "ax = sns.barplot(data=sales_by_days, x = \"date\", y = \"quantity\")\n",
    "                 \n",
    "ax.bar_label(ax.containers[0])"
   ]
  },
  {
   "cell_type": "code",
   "execution_count": 138,
   "id": "016c6c48",
   "metadata": {},
   "outputs": [
    {
     "data": {
      "text/html": [
       "<div>\n",
       "<style scoped>\n",
       "    .dataframe tbody tr th:only-of-type {\n",
       "        vertical-align: middle;\n",
       "    }\n",
       "\n",
       "    .dataframe tbody tr th {\n",
       "        vertical-align: top;\n",
       "    }\n",
       "\n",
       "    .dataframe thead th {\n",
       "        text-align: right;\n",
       "    }\n",
       "</style>\n",
       "<table border=\"1\" class=\"dataframe\">\n",
       "  <thead>\n",
       "    <tr style=\"text-align: right;\">\n",
       "      <th></th>\n",
       "      <th>product_id</th>\n",
       "      <th>quantity</th>\n",
       "      <th>name</th>\n",
       "      <th>date</th>\n",
       "    </tr>\n",
       "  </thead>\n",
       "  <tbody>\n",
       "    <tr>\n",
       "      <th>0</th>\n",
       "      <td>47</td>\n",
       "      <td>1</td>\n",
       "      <td>Alexey_Smirnov</td>\n",
       "      <td>2020-12-03</td>\n",
       "    </tr>\n",
       "    <tr>\n",
       "      <th>1</th>\n",
       "      <td>57</td>\n",
       "      <td>1</td>\n",
       "      <td>Alexey_Smirnov</td>\n",
       "      <td>2020-12-03</td>\n",
       "    </tr>\n",
       "    <tr>\n",
       "      <th>2</th>\n",
       "      <td>14</td>\n",
       "      <td>2</td>\n",
       "      <td>Alexey_Smirnov</td>\n",
       "      <td>2020-12-03</td>\n",
       "    </tr>\n",
       "    <tr>\n",
       "      <th>3</th>\n",
       "      <td>52</td>\n",
       "      <td>1</td>\n",
       "      <td>Alexey_Smirnov</td>\n",
       "      <td>2020-12-03</td>\n",
       "    </tr>\n",
       "    <tr>\n",
       "      <th>4</th>\n",
       "      <td>1</td>\n",
       "      <td>4</td>\n",
       "      <td>Alexey_Smirnov</td>\n",
       "      <td>2020-12-03</td>\n",
       "    </tr>\n",
       "  </tbody>\n",
       "</table>\n",
       "</div>"
      ],
      "text/plain": [
       "   product_id  quantity            name        date\n",
       "0          47         1  Alexey_Smirnov  2020-12-03\n",
       "1          57         1  Alexey_Smirnov  2020-12-03\n",
       "2          14         2  Alexey_Smirnov  2020-12-03\n",
       "3          52         1  Alexey_Smirnov  2020-12-03\n",
       "4           1         4  Alexey_Smirnov  2020-12-03"
      ]
     },
     "execution_count": 138,
     "metadata": {},
     "output_type": "execute_result"
    }
   ],
   "source": [
    "df.head()"
   ]
  },
  {
   "cell_type": "code",
   "execution_count": 152,
   "id": "b1a5ca28",
   "metadata": {},
   "outputs": [],
   "source": [
    "# more than 1 sales\n",
    "same_product = df\\\n",
    "    .groupby(['name', 'product_id'], as_index=False)\\\n",
    "    .date\\\n",
    "    .nunique()\\\n",
    "    .sort_values(\"date\", ascending=False)"
   ]
  },
  {
   "cell_type": "code",
   "execution_count": 154,
   "id": "fafa39f6",
   "metadata": {},
   "outputs": [
    {
     "data": {
      "text/html": [
       "<div>\n",
       "<style scoped>\n",
       "    .dataframe tbody tr th:only-of-type {\n",
       "        vertical-align: middle;\n",
       "    }\n",
       "\n",
       "    .dataframe tbody tr th {\n",
       "        vertical-align: top;\n",
       "    }\n",
       "\n",
       "    .dataframe thead th {\n",
       "        text-align: right;\n",
       "    }\n",
       "</style>\n",
       "<table border=\"1\" class=\"dataframe\">\n",
       "  <thead>\n",
       "    <tr style=\"text-align: right;\">\n",
       "      <th></th>\n",
       "      <th>name</th>\n",
       "      <th>product_id</th>\n",
       "      <th>date</th>\n",
       "    </tr>\n",
       "  </thead>\n",
       "  <tbody>\n",
       "    <tr>\n",
       "      <th>37</th>\n",
       "      <td>Anton_Ivanov</td>\n",
       "      <td>15</td>\n",
       "      <td>2</td>\n",
       "    </tr>\n",
       "    <tr>\n",
       "      <th>92</th>\n",
       "      <td>Petr_Fedorov</td>\n",
       "      <td>94</td>\n",
       "      <td>2</td>\n",
       "    </tr>\n",
       "  </tbody>\n",
       "</table>\n",
       "</div>"
      ],
      "text/plain": [
       "            name  product_id  date\n",
       "37  Anton_Ivanov          15     2\n",
       "92  Petr_Fedorov          94     2"
      ]
     },
     "execution_count": 154,
     "metadata": {},
     "output_type": "execute_result"
    }
   ],
   "source": [
    "same_product.query(\"date > 1\")"
   ]
  },
  {
   "cell_type": "code",
   "execution_count": null,
   "id": "d465f768",
   "metadata": {},
   "outputs": [],
   "source": []
  }
 ],
 "metadata": {
  "kernelspec": {
   "display_name": "Python 3 (ipykernel)",
   "language": "python",
   "name": "python3"
  },
  "language_info": {
   "codemirror_mode": {
    "name": "ipython",
    "version": 3
   },
   "file_extension": ".py",
   "mimetype": "text/x-python",
   "name": "python",
   "nbconvert_exporter": "python",
   "pygments_lexer": "ipython3",
   "version": "3.9.13"
  }
 },
 "nbformat": 4,
 "nbformat_minor": 5
}
