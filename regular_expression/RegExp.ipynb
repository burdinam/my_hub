{
 "cells": [
  {
   "cell_type": "code",
   "execution_count": 1,
   "id": "bf6d6a22",
   "metadata": {},
   "outputs": [],
   "source": [
    "# import libs\n",
    "import re"
   ]
  },
  {
   "cell_type": "code",
   "execution_count": 6,
   "id": "1d719b4c",
   "metadata": {},
   "outputs": [],
   "source": [
    "pattern = re.compile('@([\\w.]+)')"
   ]
  },
  {
   "cell_type": "code",
   "execution_count": 9,
   "id": "e68c9167",
   "metadata": {},
   "outputs": [],
   "source": [
    "text = '''We have several emails - vasya@yandex.ru, katya_ivanova@gmail.com, also masha@gmail.com'''"
   ]
  },
  {
   "cell_type": "code",
   "execution_count": 10,
   "id": "76a13924",
   "metadata": {},
   "outputs": [
    {
     "data": {
      "text/plain": [
       "['yandex.ru', 'gmail.com', 'gmail.com']"
      ]
     },
     "execution_count": 10,
     "metadata": {},
     "output_type": "execute_result"
    }
   ],
   "source": [
    "pattern.findall(text)"
   ]
  },
  {
   "cell_type": "code",
   "execution_count": null,
   "id": "a60352ac",
   "metadata": {},
   "outputs": [],
   "source": []
  }
 ],
 "metadata": {
  "kernelspec": {
   "display_name": "Python 3 (ipykernel)",
   "language": "python",
   "name": "python3"
  },
  "language_info": {
   "codemirror_mode": {
    "name": "ipython",
    "version": 3
   },
   "file_extension": ".py",
   "mimetype": "text/x-python",
   "name": "python",
   "nbconvert_exporter": "python",
   "pygments_lexer": "ipython3",
   "version": "3.9.13"
  }
 },
 "nbformat": 4,
 "nbformat_minor": 5
}
