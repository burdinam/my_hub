{
 "cells": [
  {
   "cell_type": "code",
   "execution_count": 13,
   "id": "f29ad1d4",
   "metadata": {},
   "outputs": [],
   "source": [
    "# importing os module \n",
    "import os"
   ]
  },
  {
   "cell_type": "code",
   "execution_count": 14,
   "id": "1654a54f",
   "metadata": {},
   "outputs": [
    {
     "data": {
      "text/plain": [
       "'C:\\\\Users\\\\Ark\\\\0_ANALYSIS\\\\DA_projects\\\\working_directories'"
      ]
     },
     "execution_count": 14,
     "metadata": {},
     "output_type": "execute_result"
    }
   ],
   "source": [
    "# Get the path of current working directory\n",
    "path = os.getcwd()\n",
    "path"
   ]
  },
  {
   "cell_type": "code",
   "execution_count": 5,
   "id": "90da4c42",
   "metadata": {},
   "outputs": [
    {
     "data": {
      "text/plain": [
       "['.ipynb_checkpoints', 'cwd.ipynb']"
      ]
     },
     "execution_count": 5,
     "metadata": {},
     "output_type": "execute_result"
    }
   ],
   "source": [
    "# Get the list of all files and directories\n",
    "# in current working directory\n",
    "dir_list = os.listdir(path)\n",
    "dir_list"
   ]
  },
  {
   "cell_type": "code",
   "execution_count": 11,
   "id": "d0e0a7c3",
   "metadata": {},
   "outputs": [
    {
     "name": "stdout",
     "output_type": "stream",
     "text": [
      "Files and directories in ' C:\\Users\\Ark\\0_ANALYSIS\\DA_projects\\working_directories ' :\n",
      "['.ipynb_checkpoints', 'cwd.ipynb']\n"
     ]
    }
   ],
   "source": [
    "print(\"Files and directories in '\", path, \"' :\") \n",
    "# print the list\n",
    "print(dir_list)"
   ]
  },
  {
   "cell_type": "code",
   "execution_count": 26,
   "id": "b2f6b3c4",
   "metadata": {},
   "outputs": [
    {
     "name": "stdout",
     "output_type": "stream",
     "text": [
      "1=1=1=1=1=1=1=1=1 C:\\Users\\Ark\\0_ANALYSIS\\DA_projects\n",
      "2=2=2=2=2=2=2=2=2 ['.ipynb_checkpoints', 'cleaning_data', 'hotel_bookings', 'phone_platforms', 'spaghetti_lovers', 'working_directories']\n",
      "3=3=3=3=3=3=3=3=3 []\n",
      "1=1=1=1=1=1=1=1=1 C:\\Users\\Ark\\0_ANALYSIS\\DA_projects\\.ipynb_checkpoints\n",
      "2=2=2=2=2=2=2=2=2 []\n",
      "3=3=3=3=3=3=3=3=3 []\n",
      "1=1=1=1=1=1=1=1=1 C:\\Users\\Ark\\0_ANALYSIS\\DA_projects\\cleaning_data\n",
      "2=2=2=2=2=2=2=2=2 ['.ipynb_checkpoints']\n",
      "3=3=3=3=3=3=3=3=3 ['Cleaning_data.ipynb', 'data_w_minutes.csv', 'meals_apps.txt']\n",
      "1=1=1=1=1=1=1=1=1 C:\\Users\\Ark\\0_ANALYSIS\\DA_projects\\cleaning_data\\.ipynb_checkpoints\n",
      "2=2=2=2=2=2=2=2=2 []\n",
      "3=3=3=3=3=3=3=3=3 ['Cleaning_data-checkpoint.ipynb']\n",
      "1=1=1=1=1=1=1=1=1 C:\\Users\\Ark\\0_ANALYSIS\\DA_projects\\hotel_bookings\n",
      "2=2=2=2=2=2=2=2=2 ['.ipynb_checkpoints']\n",
      "3=3=3=3=3=3=3=3=3 ['hotel_bookings.csv', 'hotel_bookings.ipynb']\n",
      "1=1=1=1=1=1=1=1=1 C:\\Users\\Ark\\0_ANALYSIS\\DA_projects\\hotel_bookings\\.ipynb_checkpoints\n",
      "2=2=2=2=2=2=2=2=2 []\n",
      "3=3=3=3=3=3=3=3=3 ['hotel_bookings-checkpoint.ipynb']\n",
      "1=1=1=1=1=1=1=1=1 C:\\Users\\Ark\\0_ANALYSIS\\DA_projects\\phone_platforms\n",
      "2=2=2=2=2=2=2=2=2 ['.ipynb_checkpoints']\n",
      "3=3=3=3=3=3=3=3=3 ['logs.csv', 'platform_analysis.ipynb', 'user_data.csv']\n",
      "1=1=1=1=1=1=1=1=1 C:\\Users\\Ark\\0_ANALYSIS\\DA_projects\\phone_platforms\\.ipynb_checkpoints\n",
      "2=2=2=2=2=2=2=2=2 []\n",
      "3=3=3=3=3=3=3=3=3 ['platform_analysis-checkpoint.ipynb']\n",
      "1=1=1=1=1=1=1=1=1 C:\\Users\\Ark\\0_ANALYSIS\\DA_projects\\spaghetti_lovers\n",
      "2=2=2=2=2=2=2=2=2 ['.ipynb_checkpoints']\n",
      "3=3=3=3=3=3=3=3=3 ['Spaghetti_lovers.ipynb', 'spaghetti_lovers_data.csv']\n",
      "1=1=1=1=1=1=1=1=1 C:\\Users\\Ark\\0_ANALYSIS\\DA_projects\\spaghetti_lovers\\.ipynb_checkpoints\n",
      "2=2=2=2=2=2=2=2=2 []\n",
      "3=3=3=3=3=3=3=3=3 ['Spaghetti_lovers-checkpoint.ipynb']\n",
      "1=1=1=1=1=1=1=1=1 C:\\Users\\Ark\\0_ANALYSIS\\DA_projects\\working_directories\n",
      "2=2=2=2=2=2=2=2=2 ['.ipynb_checkpoints']\n",
      "3=3=3=3=3=3=3=3=3 ['cwd.ipynb']\n",
      "1=1=1=1=1=1=1=1=1 C:\\Users\\Ark\\0_ANALYSIS\\DA_projects\\working_directories\\.ipynb_checkpoints\n",
      "2=2=2=2=2=2=2=2=2 []\n",
      "3=3=3=3=3=3=3=3=3 ['cwd-checkpoint.ipynb']\n"
     ]
    }
   ],
   "source": [
    "# get all\n",
    "for path, dirs, files in os.walk('C:\\\\Users\\\\Ark\\\\0_ANALYSIS\\\\DA_projects'):\n",
    "    print('1=1=1=1=1=1=1=1=1', path)\n",
    "    print('2=2=2=2=2=2=2=2=2', dirs)\n",
    "    print('3=3=3=3=3=3=3=3=3', files)"
   ]
  },
  {
   "cell_type": "code",
   "execution_count": null,
   "id": "d3fbaa75",
   "metadata": {},
   "outputs": [],
   "source": []
  },
  {
   "cell_type": "code",
   "execution_count": null,
   "id": "a5bd4b2e",
   "metadata": {},
   "outputs": [],
   "source": []
  },
  {
   "cell_type": "code",
   "execution_count": null,
   "id": "4c0e7948",
   "metadata": {},
   "outputs": [],
   "source": []
  },
  {
   "cell_type": "code",
   "execution_count": null,
   "id": "1485012d",
   "metadata": {},
   "outputs": [],
   "source": []
  },
  {
   "cell_type": "code",
   "execution_count": 7,
   "id": "cc938c39",
   "metadata": {},
   "outputs": [
    {
     "ename": "NameError",
     "evalue": "name '__file__' is not defined",
     "output_type": "error",
     "traceback": [
      "\u001b[1;31m---------------------------------------------------------------------------\u001b[0m",
      "\u001b[1;31mNameError\u001b[0m                                 Traceback (most recent call last)",
      "\u001b[1;32m~\\AppData\\Local\\Temp\\ipykernel_216\\4188135859.py\u001b[0m in \u001b[0;36m<module>\u001b[1;34m\u001b[0m\n\u001b[0;32m      1\u001b[0m \u001b[1;32mfrom\u001b[0m \u001b[0mpathlib\u001b[0m \u001b[1;32mimport\u001b[0m \u001b[0mPath\u001b[0m\u001b[1;33m\u001b[0m\u001b[1;33m\u001b[0m\u001b[0m\n\u001b[0;32m      2\u001b[0m \u001b[1;33m\u001b[0m\u001b[0m\n\u001b[1;32m----> 3\u001b[1;33m \u001b[0mBASE_DIR\u001b[0m \u001b[1;33m=\u001b[0m \u001b[0mPath\u001b[0m\u001b[1;33m(\u001b[0m\u001b[0m__file__\u001b[0m\u001b[1;33m)\u001b[0m\u001b[1;33m.\u001b[0m\u001b[0mresolve\u001b[0m\u001b[1;33m(\u001b[0m\u001b[1;33m)\u001b[0m\u001b[1;33m.\u001b[0m\u001b[0mparent\u001b[0m\u001b[1;33m.\u001b[0m\u001b[0mparent\u001b[0m\u001b[1;33m\u001b[0m\u001b[1;33m\u001b[0m\u001b[0m\n\u001b[0m\u001b[0;32m      4\u001b[0m \u001b[0mTEMPLATES_DIR\u001b[0m \u001b[1;33m=\u001b[0m \u001b[0mBASE_DIR\u001b[0m\u001b[1;33m.\u001b[0m\u001b[0mjoinpath\u001b[0m\u001b[1;33m(\u001b[0m\u001b[1;34m'templates'\u001b[0m\u001b[1;33m)\u001b[0m\u001b[1;33m\u001b[0m\u001b[1;33m\u001b[0m\u001b[0m\n",
      "\u001b[1;31mNameError\u001b[0m: name '__file__' is not defined"
     ]
    }
   ],
   "source": [
    "from pathlib import Path\n",
    "\n",
    "BASE_DIR = Path(__file__).resolve().parent.parent\n",
    "TEMPLATES_DIR = BASE_DIR.joinpath('templates')"
   ]
  },
  {
   "cell_type": "code",
   "execution_count": null,
   "id": "b7215060",
   "metadata": {},
   "outputs": [],
   "source": []
  }
 ],
 "metadata": {
  "kernelspec": {
   "display_name": "Python 3 (ipykernel)",
   "language": "python",
   "name": "python3"
  },
  "language_info": {
   "codemirror_mode": {
    "name": "ipython",
    "version": 3
   },
   "file_extension": ".py",
   "mimetype": "text/x-python",
   "name": "python",
   "nbconvert_exporter": "python",
   "pygments_lexer": "ipython3",
   "version": "3.9.13"
  }
 },
 "nbformat": 4,
 "nbformat_minor": 5
}
