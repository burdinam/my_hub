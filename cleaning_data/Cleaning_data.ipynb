{
 "cells": [
  {
   "cell_type": "code",
   "execution_count": 38,
   "id": "baa864da",
   "metadata": {},
   "outputs": [],
   "source": [
    "#Load the required libraries\n",
    "\n",
    "import pandas as pd\n",
    "import os"
   ]
  },
  {
   "cell_type": "code",
   "execution_count": 39,
   "id": "3409bc3f",
   "metadata": {},
   "outputs": [
    {
     "data": {
      "text/plain": [
       "['.ipynb_checkpoints', 'DA_projects', 'Price_prediction', 'Sentiment', 'TA']"
      ]
     },
     "execution_count": 39,
     "metadata": {},
     "output_type": "execute_result"
    }
   ],
   "source": [
    "os.listdir('C:/Users/Ark/0_ANALYSIS/')"
   ]
  },
  {
   "cell_type": "code",
   "execution_count": 40,
   "id": "b8c7c8aa",
   "metadata": {},
   "outputs": [
    {
     "data": {
      "text/plain": [
       "'C:\\\\Users\\\\Ark\\\\0_ANALYSIS\\\\DA_projects\\\\cleaning_data'"
      ]
     },
     "execution_count": 40,
     "metadata": {},
     "output_type": "execute_result"
    }
   ],
   "source": [
    "os.getcwd()"
   ]
  },
  {
   "cell_type": "code",
   "execution_count": 41,
   "id": "429538f0",
   "metadata": {},
   "outputs": [],
   "source": [
    "#using list comprehension\n",
    "\n",
    "folder_data = [i for i in os.listdir('C:/Users/Ark/0_ANALYSIS/') if not i.startswith('.')]"
   ]
  },
  {
   "cell_type": "code",
   "execution_count": 42,
   "id": "fd50713b",
   "metadata": {},
   "outputs": [
    {
     "data": {
      "text/plain": [
       "['DA_projects', 'Price_prediction', 'Sentiment', 'TA']"
      ]
     },
     "execution_count": 42,
     "metadata": {},
     "output_type": "execute_result"
    }
   ],
   "source": [
    "folder_data"
   ]
  },
  {
   "cell_type": "markdown",
   "id": "9d6e6ea1",
   "metadata": {},
   "source": [
    "## Parsing data from file"
   ]
  },
  {
   "cell_type": "code",
   "execution_count": 43,
   "id": "1795abf3",
   "metadata": {},
   "outputs": [],
   "source": [
    "path = \"C:/Users/Ark/0_ANALYSIS/DA_projects/cleaning_data/meals_apps.txt\""
   ]
  },
  {
   "cell_type": "code",
   "execution_count": 44,
   "id": "46bbeb0b",
   "metadata": {},
   "outputs": [],
   "source": [
    "meal_data = open(path).readlines()"
   ]
  },
  {
   "cell_type": "code",
   "execution_count": 45,
   "id": "dda3e5c2",
   "metadata": {},
   "outputs": [
    {
     "name": "stdout",
     "output_type": "stream",
     "text": [
      "['-------------------------------------------------------\\n', '-------------------------------------------------------\\n', 'Data log format: Descent DB log\\n', '\\n', '  Intake Params check: INTAKE PARAMS DIFFER FROM THEIR DEFAULTS!!!\\n', '  Power cycle emulation: disabled\\n', '\\n', '  Build Mode:   HB_ITS_ONLY\\n', '-------------------------------------------------------\\n', '\\n', '--- Non-deleted saved meals -----------------------\\n', ' Meal#;        Date; Start;   End; Flags;    E-IN;    Cbh;    Fat;    Pro;  S. tstamp; End tstamp; Minutes;  Recs; First;  Last;    Type; Frags;\\n', '     0;  09.09.2019; 16:22; 17:58;  0x84;  190.19;  16.27;   9.88;   9.06; 1568035377; 1568041082;      96;    95;     4;    98; F3-Meal;\\n', '     1;  09.09.2019; 18:17; 20:10;  0x84;  256.30;  19.55;  14.06;  12.89; 1568042235; 1568049032;     114;   122;   108;   229; F3-Meal;\\n', '     2;  09.09.2019; 20:53; 21:39;  0x84;   67.63;   7.87;   2.85;   2.62; 1568051580; 1568054372;      47;    47;   271;   317; F3-Meal;\\n', '     3;  09.09.2019; 23:00; 00:22;  0x84;  179.50;  15.13;   9.39;   8.61; 1568059227; 1568064143;      82;    82;   397;   478; F3-Meal;\\n', '-----------------------------------------------------\\n', '\\n', '--- All saved meals -------------------------------\\n', \"     there's no per-meal data\\n\", '-----------------------------------------------------\\n', '\\n', '--- Total per-file (0: by summaries, 1: by meals) -\\n', 'Tracking Start;      Last saved;             Idx.; Rec. ID;     Tstamp;     E-IN;  CBH_in;  FAT_in;  PRO_in;    E-OUT; CBH_out; FAT_out;   Steps; Distance; E-LOSS for phy\\n', '09.09.2019 16:19:55; 09.09.2019 23:59:07;       0;       0; 1568073547;   644.59;   54.68;   33.62;   30.82;     0.00;    0.00;    0.00;       0;        0;           0.00\\n', '09.09.2019 16:22:57; 10.09.2019 00:22:23;       1;       0; 1568074943;   644.59;   54.68;   33.62;   30.82;     0.00;    0.00;    0.00;       0;        0;           0.00\\n', '-----------------------------------------------------\\n', '\\n', '--- Summary change history --------------------------\\n', 'Tracking Start;      Last saved;             Idx.; Rec. ID;     Tstamp;     E-IN;  CBH_in;  FAT_in;  PRO_in;    E-OUT; CBH_out; FAT_out;   Steps; Distance; E-LOSS for phy\\n', '09.09.2019 16:19:55; 09.09.2019 23:59:07;       0;       0; 1568073547;   644.59;   54.68;   33.62;   30.82;     0.00;    0.00;    0.00;       0;        0;           0.00\\n', '-----------------------------------------------------\\n', '-------------------------------------------------------\\n', '-------------------------------------------------------\\n', 'Data log format: Descent DB log\\n', '\\n', '\\n', '  Intake Params check: INTAKE PARAMS DIFFER FROM THEIR DEFAULTS!!!\\n', '  Power cycle emulation: disabled\\n', '\\n', '  Build Mode:   HB_ITS_ONLY\\n', '-------------------------------------------------------\\n', '\\n', '\\n', '\\n', '--- Non-deleted saved meals -----------------------\\n', ' Meal#;        Date; Start;   End; Flags;    E-IN;    Cbh;    Fat;    Pro;  S. tstamp; End tstamp; Minutes;  Recs; First;  Last;    Type; Frags;\\n', '     0;  09.09.2019; 23:00; 00:22;  0x84;  179.50;  15.13;   9.39;   8.61; 1568059227; 1568064143;      82;    82;   397;   478; F3-Meal;\\n', '     1;  10.09.2019; 01:32; 02:11;  0x84;   47.41;   5.77;   1.92;   1.76; 1568068330; 1568070697;      40;    43;   544;   586; F3-Meal;\\n', '     2;  10.09.2019; 03:50; 05:31;  0x84;  175.42;  15.90;   8.83;   8.09; 1568076644; 1568082713;     102;   107;   678;   784; F3-Meal;\\n', '     3;  10.09.2019; 09:17; 10:59;  0x84;  300.08;  21.59;  16.87;  15.47; 1568096246; 1568102375;     103;    98;  1007;  1104; F3-Meal;\\n', '     4;  10.09.2019; 11:14; 12:07;  0x84;   76.57;   8.63;   3.32;   3.04; 1568103286; 1568106442;      53;    53;  1123;  1175; F3-Meal;\\n', '     5;  10.09.2019; 12:07; 12:47;  0x84;   45.03;   5.87;   1.70;   1.56; 1568106442; 1568108870;      41;    41;  1175;  1215; F3-Meal;\\n', '     6;  10.09.2019; 13:19; 16:05;  0x84;  371.60;  26.78;  20.88;  19.14; 1568110750; 1568120704;     166;   162;  1246;  1407; F3-Meal;\\n', '     7;  10.09.2019; 16:37; 18:17;  0x84;  255.73;  18.62;  14.31;  13.12; 1568122645; 1568128654;     101;   100;  1442;  1541; F3-Meal;\\n', '     8;  10.09.2019; 19:36; 21:34;  0x84;  303.56;  22.04;  17.01;  15.59; 1568133387; 1568140488;     119;   118;  1619;  1736; F3-Meal;\\n', '     9;  10.09.2019; 21:34; 23:14;  0x84;  186.06;  15.87;   9.68;   8.87; 1568140488; 1568146496;     101;    74;  1736;  1809; F3-Meal;\\n', '    10;  10.09.2019; 23:14; 02:44;  0x84;  460.76;  37.92;  24.40;  22.37; 1568146496; 1568159058;     210;   234;  1809;  2042; F3-Meal;\\n', '-----------------------------------------------------\\n', '\\n', '--- All saved meals -------------------------------\\n', \"     there's no per-meal data\\n\", '-----------------------------------------------------\\n', '\\n', '--- Total per-file (0: by summaries, 1: by meals) -\\n', 'Tracking Start;      Last saved;             Idx.; Rec. ID;     Tstamp;     E-IN;  CBH_in;  FAT_in;  PRO_in;    E-OUT; CBH_out; FAT_out;   Steps; Distance; E-LOSS for phy\\n', '10.09.2019 00:00:07; 10.09.2019 23:59:26;       0;       0; 1568159966;  1909.69;  153.36;  102.34;   93.81;     0.00;    0.00;    0.00;       0;        0;           0.00\\n', '10.09.2019 01:32:10; 11.09.2019 02:44:18;       1;       0; 1568169858;  1909.69;  153.36;  102.34;   93.81;     0.00;    0.00;    0.00;       0;        0;           0.00\\n', '-----------------------------------------------------\\n', '\\n', '--- Summary change history --------------------------\\n', 'Tracking Start;      Last saved;             Idx.; Rec. ID;     Tstamp;     E-IN;  CBH_in;  FAT_in;  PRO_in;    E-OUT; CBH_out; FAT_out;   Steps; Distance; E-LOSS for phy\\n', '10.09.2019 00:00:07; 10.09.2019 23:59:26;       0;       0; 1568159966;  1909.69;  153.36;  102.34;   93.81;     0.00;    0.00;    0.00;       0;        0;           0.00\\n', '-----------------------------------------------------\\n', '-------------------------------------------------------\\n', '-------------------------------------------------------\\n', 'Data log format: Descent DB log\\n', '\\n', '\\n', '  Intake Params check: INTAKE PARAMS DIFFER FROM THEIR DEFAULTS!!!\\n', '  Power cycle emulation: disabled\\n', '\\n', '  Build Mode:   HB_ITS_ONLY\\n', '-------------------------------------------------------\\n', '\\n', '\\n', '--- Non-deleted saved meals -----------------------\\n', ' Meal#;        Date; Start;   End; Flags;    E-IN;    Cbh;    Fat;    Pro;  S. tstamp; End tstamp; Minutes;  Recs; First;  Last;    Type; Frags;\\n', '     0;  10.09.2019; 23:14; 02:44;  0x84;  460.76;  37.92;  24.40;  22.37; 1568146496; 1568159058;     210;   234;  1809;  2042; F3-Meal;\\n', '     1;  11.09.2019; 03:47; 04:49;  0x84;   80.91;   9.48;   3.39;   3.11; 1568162821; 1568166583;      63;    71;  2096;  2166; F3-Meal;\\n', '     2;  11.09.2019; 04:49; 05:40;  0x84;   66.29;   7.62;   2.83;   2.59; 1568166583; 1568169618;      51;    51;  2166;  2216; F3-Meal;\\n', '     3;  11.09.2019; 09:00; 11:19;  0x84;  383.90;  29.42;  21.02;  19.27; 1568181633; 1568189948;     139;   135;  2414;  2548; F3-Meal;\\n', '     4;  11.09.2019; 11:41; 12:18;  0x84;   45.62;   6.12;   1.67;   1.53; 1568191283; 1568193529;      38;    46;  2565;  2610; F3-Meal;\\n', '     5;  11.09.2019; 13:41; 16:09;  0x84;  352.79;  25.58;  19.77;  18.13; 1568198506; 1568207366;     148;   143;  2692;  2834; F3-Meal;\\n', '     6;  11.09.2019; 16:09; 18:03;  0x84;  269.93;  19.59;  15.13;  13.86; 1568207366; 1568214223;     115;   118;  2834;  2951; F3-Meal;\\n', '     7;  11.09.2019; 18:03; 20:36;  0x84;  328.70;  25.84;  17.79;  16.31; 1568214223; 1568223387;     153;   152;  2951;  3102; F3-Meal;\\n', '     8;  11.09.2019; 21:19; 00:07;  0x84;  399.11;  29.30;  22.26;  20.40; 1568225997; 1568236071;     168;   167;  3145;  3311; F3-Meal;\\n', '-----------------------------------------------------\\n', '\\n', '--- All saved meals -------------------------------\\n', \"     there's no per-meal data\\n\", '-----------------------------------------------------\\n', '\\n', '--- Total per-file (0: by summaries, 1: by meals) -\\n', 'Tracking Start;      Last saved;             Idx.; Rec. ID;     Tstamp;     E-IN;  CBH_in;  FAT_in;  PRO_in;    E-OUT; CBH_out; FAT_out;   Steps; Distance; E-LOSS for phy\\n', '11.09.2019 00:00:27; 11.09.2019 23:59:46;       0;       0; 1568246386;  2270.18;  181.33;  121.96;  111.80;     0.00;    0.00;    0.00;       0;        0;           0.00\\n', '11.09.2019 03:47:01; 12.09.2019 00:07:51;       1;       0; 1568246871;  2270.18;  181.33;  121.96;  111.80;     0.00;    0.00;    0.00;       0;        0;           0.00\\n', '-----------------------------------------------------\\n', '\\n', '--- Summary change history --------------------------\\n', 'Tracking Start;      Last saved;             Idx.; Rec. ID;     Tstamp;     E-IN;  CBH_in;  FAT_in;  PRO_in;    E-OUT; CBH_out; FAT_out;   Steps; Distance; E-LOSS for phy\\n', '11.09.2019 00:00:27; 11.09.2019 23:59:46;       0;       0; 1568246386;  2270.18;  181.33;  121.96;  111.80;     0.00;    0.00;    0.00;       0;        0;           0.00\\n', '-----------------------------------------------------\\n']\n"
     ]
    }
   ],
   "source": [
    "print(meal_data)"
   ]
  },
  {
   "cell_type": "code",
   "execution_count": 46,
   "id": "99f13250",
   "metadata": {},
   "outputs": [],
   "source": [
    "full_date = []\n",
    "parsing = False\n",
    "for i in meal_data:\n",
    "    if i.startswith('--------'):\n",
    "        parsing = False\n",
    "        continue\n",
    "        \n",
    "    if parsing:\n",
    "        # Parsing column names separately\n",
    "        if 'Meal#;' in i:\n",
    "            col_names = i\n",
    "            continue\n",
    "            \n",
    "        full_date.append([val.strip() for val in i.split(';')])\n",
    "        \n",
    "    if 'Non-deleted saved meals' in i:\n",
    "        parsing = True\n",
    "        continue"
   ]
  },
  {
   "cell_type": "code",
   "execution_count": 47,
   "id": "7950f9a3",
   "metadata": {},
   "outputs": [],
   "source": [
    "column_names = [i.strip().replace(\" \", \"_\").replace('#', '') for i in col_names.split(';')]"
   ]
  },
  {
   "cell_type": "code",
   "execution_count": 48,
   "id": "deac13fe",
   "metadata": {},
   "outputs": [
    {
     "data": {
      "text/plain": [
       "['Meal',\n",
       " 'Date',\n",
       " 'Start',\n",
       " 'End',\n",
       " 'Flags',\n",
       " 'E-IN',\n",
       " 'Cbh',\n",
       " 'Fat',\n",
       " 'Pro',\n",
       " 'S._tstamp',\n",
       " 'End_tstamp',\n",
       " 'Minutes',\n",
       " 'Recs',\n",
       " 'First',\n",
       " 'Last',\n",
       " 'Type',\n",
       " 'Frags',\n",
       " '']"
      ]
     },
     "execution_count": 48,
     "metadata": {},
     "output_type": "execute_result"
    }
   ],
   "source": [
    "column_names"
   ]
  },
  {
   "cell_type": "code",
   "execution_count": 49,
   "id": "cc1efd93",
   "metadata": {},
   "outputs": [],
   "source": [
    "df = pd.DataFrame(full_date, columns = column_names[:-1])"
   ]
  },
  {
   "cell_type": "code",
   "execution_count": 50,
   "id": "81f521f0",
   "metadata": {
    "scrolled": true
   },
   "outputs": [
    {
     "data": {
      "text/html": [
       "<div>\n",
       "<style scoped>\n",
       "    .dataframe tbody tr th:only-of-type {\n",
       "        vertical-align: middle;\n",
       "    }\n",
       "\n",
       "    .dataframe tbody tr th {\n",
       "        vertical-align: top;\n",
       "    }\n",
       "\n",
       "    .dataframe thead th {\n",
       "        text-align: right;\n",
       "    }\n",
       "</style>\n",
       "<table border=\"1\" class=\"dataframe\">\n",
       "  <thead>\n",
       "    <tr style=\"text-align: right;\">\n",
       "      <th></th>\n",
       "      <th>Meal</th>\n",
       "      <th>Date</th>\n",
       "      <th>Start</th>\n",
       "      <th>End</th>\n",
       "      <th>Flags</th>\n",
       "      <th>E-IN</th>\n",
       "      <th>Cbh</th>\n",
       "      <th>Fat</th>\n",
       "      <th>Pro</th>\n",
       "      <th>S._tstamp</th>\n",
       "      <th>End_tstamp</th>\n",
       "      <th>Minutes</th>\n",
       "      <th>Recs</th>\n",
       "      <th>First</th>\n",
       "      <th>Last</th>\n",
       "      <th>Type</th>\n",
       "      <th>Frags</th>\n",
       "    </tr>\n",
       "  </thead>\n",
       "  <tbody>\n",
       "    <tr>\n",
       "      <th>0</th>\n",
       "      <td>0</td>\n",
       "      <td>09.09.2019</td>\n",
       "      <td>16:22</td>\n",
       "      <td>17:58</td>\n",
       "      <td>0x84</td>\n",
       "      <td>190.19</td>\n",
       "      <td>16.27</td>\n",
       "      <td>9.88</td>\n",
       "      <td>9.06</td>\n",
       "      <td>1568035377</td>\n",
       "      <td>1568041082</td>\n",
       "      <td>96</td>\n",
       "      <td>95</td>\n",
       "      <td>4</td>\n",
       "      <td>98</td>\n",
       "      <td>F3-Meal</td>\n",
       "      <td></td>\n",
       "    </tr>\n",
       "    <tr>\n",
       "      <th>1</th>\n",
       "      <td>1</td>\n",
       "      <td>09.09.2019</td>\n",
       "      <td>18:17</td>\n",
       "      <td>20:10</td>\n",
       "      <td>0x84</td>\n",
       "      <td>256.30</td>\n",
       "      <td>19.55</td>\n",
       "      <td>14.06</td>\n",
       "      <td>12.89</td>\n",
       "      <td>1568042235</td>\n",
       "      <td>1568049032</td>\n",
       "      <td>114</td>\n",
       "      <td>122</td>\n",
       "      <td>108</td>\n",
       "      <td>229</td>\n",
       "      <td>F3-Meal</td>\n",
       "      <td></td>\n",
       "    </tr>\n",
       "    <tr>\n",
       "      <th>2</th>\n",
       "      <td>2</td>\n",
       "      <td>09.09.2019</td>\n",
       "      <td>20:53</td>\n",
       "      <td>21:39</td>\n",
       "      <td>0x84</td>\n",
       "      <td>67.63</td>\n",
       "      <td>7.87</td>\n",
       "      <td>2.85</td>\n",
       "      <td>2.62</td>\n",
       "      <td>1568051580</td>\n",
       "      <td>1568054372</td>\n",
       "      <td>47</td>\n",
       "      <td>47</td>\n",
       "      <td>271</td>\n",
       "      <td>317</td>\n",
       "      <td>F3-Meal</td>\n",
       "      <td></td>\n",
       "    </tr>\n",
       "    <tr>\n",
       "      <th>3</th>\n",
       "      <td>3</td>\n",
       "      <td>09.09.2019</td>\n",
       "      <td>23:00</td>\n",
       "      <td>00:22</td>\n",
       "      <td>0x84</td>\n",
       "      <td>179.50</td>\n",
       "      <td>15.13</td>\n",
       "      <td>9.39</td>\n",
       "      <td>8.61</td>\n",
       "      <td>1568059227</td>\n",
       "      <td>1568064143</td>\n",
       "      <td>82</td>\n",
       "      <td>82</td>\n",
       "      <td>397</td>\n",
       "      <td>478</td>\n",
       "      <td>F3-Meal</td>\n",
       "      <td></td>\n",
       "    </tr>\n",
       "    <tr>\n",
       "      <th>4</th>\n",
       "      <td>0</td>\n",
       "      <td>09.09.2019</td>\n",
       "      <td>23:00</td>\n",
       "      <td>00:22</td>\n",
       "      <td>0x84</td>\n",
       "      <td>179.50</td>\n",
       "      <td>15.13</td>\n",
       "      <td>9.39</td>\n",
       "      <td>8.61</td>\n",
       "      <td>1568059227</td>\n",
       "      <td>1568064143</td>\n",
       "      <td>82</td>\n",
       "      <td>82</td>\n",
       "      <td>397</td>\n",
       "      <td>478</td>\n",
       "      <td>F3-Meal</td>\n",
       "      <td></td>\n",
       "    </tr>\n",
       "  </tbody>\n",
       "</table>\n",
       "</div>"
      ],
      "text/plain": [
       "  Meal        Date  Start    End Flags    E-IN    Cbh    Fat    Pro  \\\n",
       "0    0  09.09.2019  16:22  17:58  0x84  190.19  16.27   9.88   9.06   \n",
       "1    1  09.09.2019  18:17  20:10  0x84  256.30  19.55  14.06  12.89   \n",
       "2    2  09.09.2019  20:53  21:39  0x84   67.63   7.87   2.85   2.62   \n",
       "3    3  09.09.2019  23:00  00:22  0x84  179.50  15.13   9.39   8.61   \n",
       "4    0  09.09.2019  23:00  00:22  0x84  179.50  15.13   9.39   8.61   \n",
       "\n",
       "    S._tstamp  End_tstamp Minutes Recs First Last     Type Frags  \n",
       "0  1568035377  1568041082      96   95     4   98  F3-Meal        \n",
       "1  1568042235  1568049032     114  122   108  229  F3-Meal        \n",
       "2  1568051580  1568054372      47   47   271  317  F3-Meal        \n",
       "3  1568059227  1568064143      82   82   397  478  F3-Meal        \n",
       "4  1568059227  1568064143      82   82   397  478  F3-Meal        "
      ]
     },
     "execution_count": 50,
     "metadata": {},
     "output_type": "execute_result"
    }
   ],
   "source": [
    "df.head()"
   ]
  },
  {
   "cell_type": "code",
   "execution_count": 57,
   "id": "6cbd701f",
   "metadata": {},
   "outputs": [],
   "source": [
    "df = df.astype({\"Meal\":\"int\"})"
   ]
  },
  {
   "cell_type": "code",
   "execution_count": 60,
   "id": "86cd7297",
   "metadata": {
    "scrolled": true
   },
   "outputs": [
    {
     "data": {
      "text/html": [
       "<div>\n",
       "<style scoped>\n",
       "    .dataframe tbody tr th:only-of-type {\n",
       "        vertical-align: middle;\n",
       "    }\n",
       "\n",
       "    .dataframe tbody tr th {\n",
       "        vertical-align: top;\n",
       "    }\n",
       "\n",
       "    .dataframe thead th {\n",
       "        text-align: right;\n",
       "    }\n",
       "</style>\n",
       "<table border=\"1\" class=\"dataframe\">\n",
       "  <thead>\n",
       "    <tr style=\"text-align: right;\">\n",
       "      <th></th>\n",
       "      <th>Meal</th>\n",
       "      <th>Date</th>\n",
       "      <th>Start</th>\n",
       "      <th>End</th>\n",
       "      <th>Flags</th>\n",
       "      <th>E-IN</th>\n",
       "      <th>Cbh</th>\n",
       "      <th>Fat</th>\n",
       "      <th>Pro</th>\n",
       "      <th>S._tstamp</th>\n",
       "      <th>End_tstamp</th>\n",
       "      <th>Minutes</th>\n",
       "      <th>Recs</th>\n",
       "      <th>First</th>\n",
       "      <th>Last</th>\n",
       "      <th>Type</th>\n",
       "      <th>Frags</th>\n",
       "    </tr>\n",
       "  </thead>\n",
       "  <tbody>\n",
       "    <tr>\n",
       "      <th>1</th>\n",
       "      <td>1</td>\n",
       "      <td>09.09.2019</td>\n",
       "      <td>18:17</td>\n",
       "      <td>20:10</td>\n",
       "      <td>0x84</td>\n",
       "      <td>256.30</td>\n",
       "      <td>19.55</td>\n",
       "      <td>14.06</td>\n",
       "      <td>12.89</td>\n",
       "      <td>1568042235</td>\n",
       "      <td>1568049032</td>\n",
       "      <td>114</td>\n",
       "      <td>122</td>\n",
       "      <td>108</td>\n",
       "      <td>229</td>\n",
       "      <td>F3-Meal</td>\n",
       "      <td></td>\n",
       "    </tr>\n",
       "    <tr>\n",
       "      <th>2</th>\n",
       "      <td>2</td>\n",
       "      <td>09.09.2019</td>\n",
       "      <td>20:53</td>\n",
       "      <td>21:39</td>\n",
       "      <td>0x84</td>\n",
       "      <td>67.63</td>\n",
       "      <td>7.87</td>\n",
       "      <td>2.85</td>\n",
       "      <td>2.62</td>\n",
       "      <td>1568051580</td>\n",
       "      <td>1568054372</td>\n",
       "      <td>47</td>\n",
       "      <td>47</td>\n",
       "      <td>271</td>\n",
       "      <td>317</td>\n",
       "      <td>F3-Meal</td>\n",
       "      <td></td>\n",
       "    </tr>\n",
       "    <tr>\n",
       "      <th>3</th>\n",
       "      <td>3</td>\n",
       "      <td>09.09.2019</td>\n",
       "      <td>23:00</td>\n",
       "      <td>00:22</td>\n",
       "      <td>0x84</td>\n",
       "      <td>179.50</td>\n",
       "      <td>15.13</td>\n",
       "      <td>9.39</td>\n",
       "      <td>8.61</td>\n",
       "      <td>1568059227</td>\n",
       "      <td>1568064143</td>\n",
       "      <td>82</td>\n",
       "      <td>82</td>\n",
       "      <td>397</td>\n",
       "      <td>478</td>\n",
       "      <td>F3-Meal</td>\n",
       "      <td></td>\n",
       "    </tr>\n",
       "    <tr>\n",
       "      <th>5</th>\n",
       "      <td>1</td>\n",
       "      <td>10.09.2019</td>\n",
       "      <td>01:32</td>\n",
       "      <td>02:11</td>\n",
       "      <td>0x84</td>\n",
       "      <td>47.41</td>\n",
       "      <td>5.77</td>\n",
       "      <td>1.92</td>\n",
       "      <td>1.76</td>\n",
       "      <td>1568068330</td>\n",
       "      <td>1568070697</td>\n",
       "      <td>40</td>\n",
       "      <td>43</td>\n",
       "      <td>544</td>\n",
       "      <td>586</td>\n",
       "      <td>F3-Meal</td>\n",
       "      <td></td>\n",
       "    </tr>\n",
       "    <tr>\n",
       "      <th>6</th>\n",
       "      <td>2</td>\n",
       "      <td>10.09.2019</td>\n",
       "      <td>03:50</td>\n",
       "      <td>05:31</td>\n",
       "      <td>0x84</td>\n",
       "      <td>175.42</td>\n",
       "      <td>15.90</td>\n",
       "      <td>8.83</td>\n",
       "      <td>8.09</td>\n",
       "      <td>1568076644</td>\n",
       "      <td>1568082713</td>\n",
       "      <td>102</td>\n",
       "      <td>107</td>\n",
       "      <td>678</td>\n",
       "      <td>784</td>\n",
       "      <td>F3-Meal</td>\n",
       "      <td></td>\n",
       "    </tr>\n",
       "    <tr>\n",
       "      <th>7</th>\n",
       "      <td>3</td>\n",
       "      <td>10.09.2019</td>\n",
       "      <td>09:17</td>\n",
       "      <td>10:59</td>\n",
       "      <td>0x84</td>\n",
       "      <td>300.08</td>\n",
       "      <td>21.59</td>\n",
       "      <td>16.87</td>\n",
       "      <td>15.47</td>\n",
       "      <td>1568096246</td>\n",
       "      <td>1568102375</td>\n",
       "      <td>103</td>\n",
       "      <td>98</td>\n",
       "      <td>1007</td>\n",
       "      <td>1104</td>\n",
       "      <td>F3-Meal</td>\n",
       "      <td></td>\n",
       "    </tr>\n",
       "    <tr>\n",
       "      <th>16</th>\n",
       "      <td>1</td>\n",
       "      <td>11.09.2019</td>\n",
       "      <td>03:47</td>\n",
       "      <td>04:49</td>\n",
       "      <td>0x84</td>\n",
       "      <td>80.91</td>\n",
       "      <td>9.48</td>\n",
       "      <td>3.39</td>\n",
       "      <td>3.11</td>\n",
       "      <td>1568162821</td>\n",
       "      <td>1568166583</td>\n",
       "      <td>63</td>\n",
       "      <td>71</td>\n",
       "      <td>2096</td>\n",
       "      <td>2166</td>\n",
       "      <td>F3-Meal</td>\n",
       "      <td></td>\n",
       "    </tr>\n",
       "    <tr>\n",
       "      <th>17</th>\n",
       "      <td>2</td>\n",
       "      <td>11.09.2019</td>\n",
       "      <td>04:49</td>\n",
       "      <td>05:40</td>\n",
       "      <td>0x84</td>\n",
       "      <td>66.29</td>\n",
       "      <td>7.62</td>\n",
       "      <td>2.83</td>\n",
       "      <td>2.59</td>\n",
       "      <td>1568166583</td>\n",
       "      <td>1568169618</td>\n",
       "      <td>51</td>\n",
       "      <td>51</td>\n",
       "      <td>2166</td>\n",
       "      <td>2216</td>\n",
       "      <td>F3-Meal</td>\n",
       "      <td></td>\n",
       "    </tr>\n",
       "    <tr>\n",
       "      <th>18</th>\n",
       "      <td>3</td>\n",
       "      <td>11.09.2019</td>\n",
       "      <td>09:00</td>\n",
       "      <td>11:19</td>\n",
       "      <td>0x84</td>\n",
       "      <td>383.90</td>\n",
       "      <td>29.42</td>\n",
       "      <td>21.02</td>\n",
       "      <td>19.27</td>\n",
       "      <td>1568181633</td>\n",
       "      <td>1568189948</td>\n",
       "      <td>139</td>\n",
       "      <td>135</td>\n",
       "      <td>2414</td>\n",
       "      <td>2548</td>\n",
       "      <td>F3-Meal</td>\n",
       "      <td></td>\n",
       "    </tr>\n",
       "  </tbody>\n",
       "</table>\n",
       "</div>"
      ],
      "text/plain": [
       "    Meal        Date  Start    End Flags    E-IN    Cbh    Fat    Pro  \\\n",
       "1      1  09.09.2019  18:17  20:10  0x84  256.30  19.55  14.06  12.89   \n",
       "2      2  09.09.2019  20:53  21:39  0x84   67.63   7.87   2.85   2.62   \n",
       "3      3  09.09.2019  23:00  00:22  0x84  179.50  15.13   9.39   8.61   \n",
       "5      1  10.09.2019  01:32  02:11  0x84   47.41   5.77   1.92   1.76   \n",
       "6      2  10.09.2019  03:50  05:31  0x84  175.42  15.90   8.83   8.09   \n",
       "7      3  10.09.2019  09:17  10:59  0x84  300.08  21.59  16.87  15.47   \n",
       "16     1  11.09.2019  03:47  04:49  0x84   80.91   9.48   3.39   3.11   \n",
       "17     2  11.09.2019  04:49  05:40  0x84   66.29   7.62   2.83   2.59   \n",
       "18     3  11.09.2019  09:00  11:19  0x84  383.90  29.42  21.02  19.27   \n",
       "\n",
       "     S._tstamp  End_tstamp Minutes Recs First  Last     Type Frags  \n",
       "1   1568042235  1568049032     114  122   108   229  F3-Meal        \n",
       "2   1568051580  1568054372      47   47   271   317  F3-Meal        \n",
       "3   1568059227  1568064143      82   82   397   478  F3-Meal        \n",
       "5   1568068330  1568070697      40   43   544   586  F3-Meal        \n",
       "6   1568076644  1568082713     102  107   678   784  F3-Meal        \n",
       "7   1568096246  1568102375     103   98  1007  1104  F3-Meal        \n",
       "16  1568162821  1568166583      63   71  2096  2166  F3-Meal        \n",
       "17  1568166583  1568169618      51   51  2166  2216  F3-Meal        \n",
       "18  1568181633  1568189948     139  135  2414  2548  F3-Meal        "
      ]
     },
     "execution_count": 60,
     "metadata": {},
     "output_type": "execute_result"
    }
   ],
   "source": [
    "# In case I need something specific\n",
    "wanted_meal_nums = [1, 2, 3]\n",
    "df.loc[df.Meal.isin(wanted_meal_nums)]\n",
    "# df.query(\"Meal in @wanted_meal_nums\")"
   ]
  },
  {
   "cell_type": "code",
   "execution_count": 63,
   "id": "4fe3d93a",
   "metadata": {},
   "outputs": [],
   "source": [
    "#Droping the columns\n",
    "df = df.drop(columns=[\"Type\", 'Frags'])"
   ]
  },
  {
   "cell_type": "code",
   "execution_count": 64,
   "id": "4b875e13",
   "metadata": {},
   "outputs": [
    {
     "data": {
      "text/html": [
       "<div>\n",
       "<style scoped>\n",
       "    .dataframe tbody tr th:only-of-type {\n",
       "        vertical-align: middle;\n",
       "    }\n",
       "\n",
       "    .dataframe tbody tr th {\n",
       "        vertical-align: top;\n",
       "    }\n",
       "\n",
       "    .dataframe thead th {\n",
       "        text-align: right;\n",
       "    }\n",
       "</style>\n",
       "<table border=\"1\" class=\"dataframe\">\n",
       "  <thead>\n",
       "    <tr style=\"text-align: right;\">\n",
       "      <th></th>\n",
       "      <th>Meal</th>\n",
       "      <th>Date</th>\n",
       "      <th>Start</th>\n",
       "      <th>End</th>\n",
       "      <th>Flags</th>\n",
       "      <th>E-IN</th>\n",
       "      <th>Cbh</th>\n",
       "      <th>Fat</th>\n",
       "      <th>Pro</th>\n",
       "      <th>S._tstamp</th>\n",
       "      <th>End_tstamp</th>\n",
       "      <th>Minutes</th>\n",
       "      <th>Recs</th>\n",
       "      <th>First</th>\n",
       "      <th>Last</th>\n",
       "    </tr>\n",
       "  </thead>\n",
       "  <tbody>\n",
       "    <tr>\n",
       "      <th>0</th>\n",
       "      <td>0</td>\n",
       "      <td>09.09.2019</td>\n",
       "      <td>16:22</td>\n",
       "      <td>17:58</td>\n",
       "      <td>0x84</td>\n",
       "      <td>190.19</td>\n",
       "      <td>16.27</td>\n",
       "      <td>9.88</td>\n",
       "      <td>9.06</td>\n",
       "      <td>1568035377</td>\n",
       "      <td>1568041082</td>\n",
       "      <td>96</td>\n",
       "      <td>95</td>\n",
       "      <td>4</td>\n",
       "      <td>98</td>\n",
       "    </tr>\n",
       "    <tr>\n",
       "      <th>1</th>\n",
       "      <td>1</td>\n",
       "      <td>09.09.2019</td>\n",
       "      <td>18:17</td>\n",
       "      <td>20:10</td>\n",
       "      <td>0x84</td>\n",
       "      <td>256.30</td>\n",
       "      <td>19.55</td>\n",
       "      <td>14.06</td>\n",
       "      <td>12.89</td>\n",
       "      <td>1568042235</td>\n",
       "      <td>1568049032</td>\n",
       "      <td>114</td>\n",
       "      <td>122</td>\n",
       "      <td>108</td>\n",
       "      <td>229</td>\n",
       "    </tr>\n",
       "    <tr>\n",
       "      <th>2</th>\n",
       "      <td>2</td>\n",
       "      <td>09.09.2019</td>\n",
       "      <td>20:53</td>\n",
       "      <td>21:39</td>\n",
       "      <td>0x84</td>\n",
       "      <td>67.63</td>\n",
       "      <td>7.87</td>\n",
       "      <td>2.85</td>\n",
       "      <td>2.62</td>\n",
       "      <td>1568051580</td>\n",
       "      <td>1568054372</td>\n",
       "      <td>47</td>\n",
       "      <td>47</td>\n",
       "      <td>271</td>\n",
       "      <td>317</td>\n",
       "    </tr>\n",
       "    <tr>\n",
       "      <th>3</th>\n",
       "      <td>3</td>\n",
       "      <td>09.09.2019</td>\n",
       "      <td>23:00</td>\n",
       "      <td>00:22</td>\n",
       "      <td>0x84</td>\n",
       "      <td>179.50</td>\n",
       "      <td>15.13</td>\n",
       "      <td>9.39</td>\n",
       "      <td>8.61</td>\n",
       "      <td>1568059227</td>\n",
       "      <td>1568064143</td>\n",
       "      <td>82</td>\n",
       "      <td>82</td>\n",
       "      <td>397</td>\n",
       "      <td>478</td>\n",
       "    </tr>\n",
       "    <tr>\n",
       "      <th>4</th>\n",
       "      <td>0</td>\n",
       "      <td>09.09.2019</td>\n",
       "      <td>23:00</td>\n",
       "      <td>00:22</td>\n",
       "      <td>0x84</td>\n",
       "      <td>179.50</td>\n",
       "      <td>15.13</td>\n",
       "      <td>9.39</td>\n",
       "      <td>8.61</td>\n",
       "      <td>1568059227</td>\n",
       "      <td>1568064143</td>\n",
       "      <td>82</td>\n",
       "      <td>82</td>\n",
       "      <td>397</td>\n",
       "      <td>478</td>\n",
       "    </tr>\n",
       "  </tbody>\n",
       "</table>\n",
       "</div>"
      ],
      "text/plain": [
       "   Meal        Date  Start    End Flags    E-IN    Cbh    Fat    Pro  \\\n",
       "0     0  09.09.2019  16:22  17:58  0x84  190.19  16.27   9.88   9.06   \n",
       "1     1  09.09.2019  18:17  20:10  0x84  256.30  19.55  14.06  12.89   \n",
       "2     2  09.09.2019  20:53  21:39  0x84   67.63   7.87   2.85   2.62   \n",
       "3     3  09.09.2019  23:00  00:22  0x84  179.50  15.13   9.39   8.61   \n",
       "4     0  09.09.2019  23:00  00:22  0x84  179.50  15.13   9.39   8.61   \n",
       "\n",
       "    S._tstamp  End_tstamp Minutes Recs First Last  \n",
       "0  1568035377  1568041082      96   95     4   98  \n",
       "1  1568042235  1568049032     114  122   108  229  \n",
       "2  1568051580  1568054372      47   47   271  317  \n",
       "3  1568059227  1568064143      82   82   397  478  \n",
       "4  1568059227  1568064143      82   82   397  478  "
      ]
     },
     "execution_count": 64,
     "metadata": {},
     "output_type": "execute_result"
    }
   ],
   "source": [
    "df.head()"
   ]
  },
  {
   "cell_type": "code",
   "execution_count": 65,
   "id": "66b85519",
   "metadata": {},
   "outputs": [
    {
     "data": {
      "text/plain": [
       "array(['09.09.2019', '10.09.2019', '11.09.2019'], dtype=object)"
      ]
     },
     "execution_count": 65,
     "metadata": {},
     "output_type": "execute_result"
    }
   ],
   "source": [
    "df.Date.unique()"
   ]
  },
  {
   "cell_type": "code",
   "execution_count": 66,
   "id": "fd9b0cbb",
   "metadata": {},
   "outputs": [
    {
     "name": "stdout",
     "output_type": "stream",
     "text": [
      "<class 'pandas.core.frame.DataFrame'>\n",
      "RangeIndex: 24 entries, 0 to 23\n",
      "Data columns (total 15 columns):\n",
      " #   Column      Non-Null Count  Dtype \n",
      "---  ------      --------------  ----- \n",
      " 0   Meal        24 non-null     int32 \n",
      " 1   Date        24 non-null     object\n",
      " 2   Start       24 non-null     object\n",
      " 3   End         24 non-null     object\n",
      " 4   Flags       24 non-null     object\n",
      " 5   E-IN        24 non-null     object\n",
      " 6   Cbh         24 non-null     object\n",
      " 7   Fat         24 non-null     object\n",
      " 8   Pro         24 non-null     object\n",
      " 9   S._tstamp   24 non-null     object\n",
      " 10  End_tstamp  24 non-null     object\n",
      " 11  Minutes     24 non-null     object\n",
      " 12  Recs        24 non-null     object\n",
      " 13  First       24 non-null     object\n",
      " 14  Last        24 non-null     object\n",
      "dtypes: int32(1), object(14)\n",
      "memory usage: 2.8+ KB\n"
     ]
    }
   ],
   "source": [
    "df.info()"
   ]
  },
  {
   "cell_type": "code",
   "execution_count": 67,
   "id": "70cfcf49",
   "metadata": {},
   "outputs": [],
   "source": [
    "# Adjusting the type of data in columns."
   ]
  },
  {
   "cell_type": "code",
   "execution_count": 68,
   "id": "82759458",
   "metadata": {},
   "outputs": [],
   "source": [
    "df = df.astype({\"Pro\":\"float\", \"Minutes\":\"int\"})"
   ]
  },
  {
   "cell_type": "code",
   "execution_count": 69,
   "id": "020e6b5b",
   "metadata": {},
   "outputs": [],
   "source": [
    "df['Date'] = pd.to_datetime(df['Date'])"
   ]
  },
  {
   "cell_type": "code",
   "execution_count": 70,
   "id": "38bddd81",
   "metadata": {},
   "outputs": [
    {
     "name": "stdout",
     "output_type": "stream",
     "text": [
      "<class 'pandas.core.frame.DataFrame'>\n",
      "RangeIndex: 24 entries, 0 to 23\n",
      "Data columns (total 15 columns):\n",
      " #   Column      Non-Null Count  Dtype         \n",
      "---  ------      --------------  -----         \n",
      " 0   Meal        24 non-null     int32         \n",
      " 1   Date        24 non-null     datetime64[ns]\n",
      " 2   Start       24 non-null     object        \n",
      " 3   End         24 non-null     object        \n",
      " 4   Flags       24 non-null     object        \n",
      " 5   E-IN        24 non-null     object        \n",
      " 6   Cbh         24 non-null     object        \n",
      " 7   Fat         24 non-null     object        \n",
      " 8   Pro         24 non-null     float64       \n",
      " 9   S._tstamp   24 non-null     object        \n",
      " 10  End_tstamp  24 non-null     object        \n",
      " 11  Minutes     24 non-null     int32         \n",
      " 12  Recs        24 non-null     object        \n",
      " 13  First       24 non-null     object        \n",
      " 14  Last        24 non-null     object        \n",
      "dtypes: datetime64[ns](1), float64(1), int32(2), object(11)\n",
      "memory usage: 2.8+ KB\n"
     ]
    }
   ],
   "source": [
    "df.info()"
   ]
  },
  {
   "cell_type": "code",
   "execution_count": 71,
   "id": "477c1c7c",
   "metadata": {},
   "outputs": [],
   "source": [
    "selected_data = df\\\n",
    "    .groupby(\"Date\", as_index=False)\\\n",
    "    .agg({\"Minutes\":\"sum\"})"
   ]
  },
  {
   "cell_type": "code",
   "execution_count": 72,
   "id": "894bd3cf",
   "metadata": {},
   "outputs": [
    {
     "data": {
      "text/html": [
       "<div>\n",
       "<style scoped>\n",
       "    .dataframe tbody tr th:only-of-type {\n",
       "        vertical-align: middle;\n",
       "    }\n",
       "\n",
       "    .dataframe tbody tr th {\n",
       "        vertical-align: top;\n",
       "    }\n",
       "\n",
       "    .dataframe thead th {\n",
       "        text-align: right;\n",
       "    }\n",
       "</style>\n",
       "<table border=\"1\" class=\"dataframe\">\n",
       "  <thead>\n",
       "    <tr style=\"text-align: right;\">\n",
       "      <th></th>\n",
       "      <th>Date</th>\n",
       "      <th>Minutes</th>\n",
       "    </tr>\n",
       "  </thead>\n",
       "  <tbody>\n",
       "    <tr>\n",
       "      <th>0</th>\n",
       "      <td>2019-09-09</td>\n",
       "      <td>421</td>\n",
       "    </tr>\n",
       "    <tr>\n",
       "      <th>1</th>\n",
       "      <td>2019-10-09</td>\n",
       "      <td>1246</td>\n",
       "    </tr>\n",
       "    <tr>\n",
       "      <th>2</th>\n",
       "      <td>2019-11-09</td>\n",
       "      <td>875</td>\n",
       "    </tr>\n",
       "  </tbody>\n",
       "</table>\n",
       "</div>"
      ],
      "text/plain": [
       "        Date  Minutes\n",
       "0 2019-09-09      421\n",
       "1 2019-10-09     1246\n",
       "2 2019-11-09      875"
      ]
     },
     "execution_count": 72,
     "metadata": {},
     "output_type": "execute_result"
    }
   ],
   "source": [
    "selected_data"
   ]
  },
  {
   "cell_type": "code",
   "execution_count": 107,
   "id": "699714c7",
   "metadata": {},
   "outputs": [],
   "source": [
    "#Export to csv"
   ]
  },
  {
   "cell_type": "code",
   "execution_count": 108,
   "id": "7743638c",
   "metadata": {},
   "outputs": [],
   "source": [
    "selected_data.to_csv('data_w_minutes.csv', index=False)"
   ]
  },
  {
   "cell_type": "code",
   "execution_count": null,
   "id": "c2c954bb",
   "metadata": {},
   "outputs": [],
   "source": []
  }
 ],
 "metadata": {
  "kernelspec": {
   "display_name": "Python 3 (ipykernel)",
   "language": "python",
   "name": "python3"
  },
  "language_info": {
   "codemirror_mode": {
    "name": "ipython",
    "version": 3
   },
   "file_extension": ".py",
   "mimetype": "text/x-python",
   "name": "python",
   "nbconvert_exporter": "python",
   "pygments_lexer": "ipython3",
   "version": "3.9.13"
  }
 },
 "nbformat": 4,
 "nbformat_minor": 5
}
