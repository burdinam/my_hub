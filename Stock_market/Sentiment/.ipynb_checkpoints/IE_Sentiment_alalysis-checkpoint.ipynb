{
 "cells": [
  {
   "cell_type": "markdown",
   "id": "fa965239",
   "metadata": {},
   "source": [
    "Установка библеотек"
   ]
  },
  {
   "cell_type": "code",
   "execution_count": 1,
   "id": "f69e3ccd",
   "metadata": {},
   "outputs": [],
   "source": [
    "import pandas as pd\n",
    "from urllib.request import urlopen, Request\n",
    "from bs4 import BeautifulSoup\n",
    "from nltk.sentiment.vader import SentimentIntensityAnalyzer\n",
    "import nltk\n",
    "import seaborn as sns\n",
    "import matplotlib.pyplot as plt\n",
    "\n"
   ]
  },
  {
   "cell_type": "markdown",
   "id": "d5766a11",
   "metadata": {},
   "source": [
    "Запрос информации"
   ]
  },
  {
   "cell_type": "code",
   "execution_count": 2,
   "id": "485d5dc5",
   "metadata": {},
   "outputs": [],
   "source": [
    "tickers = ['IE']"
   ]
  },
  {
   "cell_type": "code",
   "execution_count": 3,
   "id": "72d4f4d9",
   "metadata": {},
   "outputs": [],
   "source": [
    "finviz_url = 'https://finviz.com/quote.ashx?t='"
   ]
  },
  {
   "cell_type": "code",
   "execution_count": 4,
   "id": "65f37c4e",
   "metadata": {},
   "outputs": [],
   "source": [
    "\"\"\"Парсим новостные заголовки с сайта Finviz\"\"\"\n",
    "\n",
    "news_tables = {}\n",
    "for ticker in tickers:\n",
    "    url = finviz_url + ticker\n",
    "    \n",
    "    req = Request(url=url, headers = {'user-agent': 'my-app'})\n",
    "    response = urlopen(req)\n",
    "    \n",
    "    html = BeautifulSoup(response, 'html')\n",
    "    news_table = html.find(id = \"news-table\")\n",
    "    news_tables[ticker] = news_table\n",
    "    \n",
    "    "
   ]
  },
  {
   "cell_type": "markdown",
   "id": "b47a2fc0",
   "metadata": {},
   "source": [
    "Спарсиные данные"
   ]
  },
  {
   "cell_type": "code",
   "execution_count": 5,
   "id": "d4a94fdb",
   "metadata": {},
   "outputs": [],
   "source": [
    "parsed_data = []"
   ]
  },
  {
   "cell_type": "code",
   "execution_count": 6,
   "id": "3c4260dc",
   "metadata": {},
   "outputs": [],
   "source": [
    "\n",
    "for  ticker, news_table in news_tables.items():\n",
    "    \n",
    "    for index, row in enumerate(news_table.findAll('tr')):\n",
    "        \n",
    "        title = row.a.text\n",
    "        date_data = row.td.text.split(\" \")\n",
    "                \n",
    "        if len(date_data) == 1:\n",
    "            time = date_data[0]\n",
    "        if len(date_data) == 2:\n",
    "            time = date_data[1]\n",
    "            date = date_data[0]\n",
    "        \n",
    "        parsed_data.append([ticker, date, time, title])\n",
    "        "
   ]
  },
  {
   "cell_type": "code",
   "execution_count": 7,
   "id": "ea60bb94",
   "metadata": {},
   "outputs": [],
   "source": [
    "df = pd.DataFrame(parsed_data, columns = ['ticker', 'date', 'time', 'title'])"
   ]
  },
  {
   "cell_type": "code",
   "execution_count": 8,
   "id": "e92c3752",
   "metadata": {},
   "outputs": [],
   "source": [
    " vader = SentimentIntensityAnalyzer()"
   ]
  },
  {
   "cell_type": "markdown",
   "id": "b5fce189",
   "metadata": {},
   "source": [
    "Содаем столбец в ДФ где применяем функцию анализа текста и записываем итоговый результат"
   ]
  },
  {
   "cell_type": "code",
   "execution_count": 9,
   "id": "6e340634",
   "metadata": {},
   "outputs": [],
   "source": [
    "f = lambda title: vader.polarity_scores(title)['compound']\n",
    "df['score'] = df['title'].apply(f)\n",
    "df['date'] = pd.to_datetime(df['date']).dt.date"
   ]
  },
  {
   "cell_type": "markdown",
   "id": "1e51ba30",
   "metadata": {},
   "source": [
    "Строим аналитический график "
   ]
  },
  {
   "cell_type": "code",
   "execution_count": 23,
   "id": "d3676dfb",
   "metadata": {},
   "outputs": [
    {
     "data": {
      "text/plain": [
       "datetime.date(2022, 6, 27)"
      ]
     },
     "execution_count": 23,
     "metadata": {},
     "output_type": "execute_result"
    }
   ],
   "source": [
    "df.date.iloc[-1]"
   ]
  },
  {
   "cell_type": "code",
   "execution_count": 27,
   "id": "ac9c829b",
   "metadata": {},
   "outputs": [
    {
     "name": "stdout",
     "output_type": "stream",
     "text": [
      "0.39175\n"
     ]
    },
    {
     "data": {
      "text/plain": [
       "<Figure size 1000x1000 with 0 Axes>"
      ]
     },
     "metadata": {},
     "output_type": "display_data"
    },
    {
     "data": {
      "image/png": "[encoded data removed]",
      "text/plain": [
       "<Figure size 640x480 with 1 Axes>"
      ]
     },
     "metadata": {},
     "output_type": "display_data"
    }
   ],
   "source": [
    "print(df.query(\"score != 0\").score.mean())\n",
    "plt.figure(figsize=(10, 10))\n",
    "df.plot(x='date', y='score', kind='bar')\n",
    "plt.hlines(df.query(\"score != 0\").score.mean(), 0, df.date.iloc[-1], color = 'r', linewidth = 3,\n",
    "          linestyle = '--')\n",
    "plt.show()\n"
   ]
  },
  {
   "cell_type": "code",
   "execution_count": null,
   "id": "67261708",
   "metadata": {},
   "outputs": [],
   "source": []
  }
 ],
 "metadata": {
  "kernelspec": {
   "display_name": "Python 3 (ipykernel)",
   "language": "python",
   "name": "python3"
  },
  "language_info": {
   "codemirror_mode": {
    "name": "ipython",
    "version": 3
   },
   "file_extension": ".py",
   "mimetype": "text/x-python",
   "name": "python",
   "nbconvert_exporter": "python",
   "pygments_lexer": "ipython3",
   "version": "3.9.13"
  }
 },
 "nbformat": 4,
 "nbformat_minor": 5
}
