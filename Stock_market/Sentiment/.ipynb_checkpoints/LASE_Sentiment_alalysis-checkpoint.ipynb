{
 "cells": [
  {
   "cell_type": "markdown",
   "id": "fa965239",
   "metadata": {},
   "source": [
    "Установка библеотек"
   ]
  },
  {
   "cell_type": "code",
   "execution_count": 22,
   "id": "f69e3ccd",
   "metadata": {},
   "outputs": [],
   "source": [
    "import pandas as pd\n",
    "from urllib.request import urlopen, Request\n",
    "from bs4 import BeautifulSoup\n",
    "from nltk.sentiment.vader import SentimentIntensityAnalyzer\n",
    "import nltk\n",
    "import seaborn as sns\n",
    "import matplotlib.pyplot as plt\n",
    "\n"
   ]
  },
  {
   "cell_type": "markdown",
   "id": "d5766a11",
   "metadata": {},
   "source": [
    "Запрос информации"
   ]
  },
  {
   "cell_type": "code",
   "execution_count": 23,
   "id": "485d5dc5",
   "metadata": {},
   "outputs": [],
   "source": [
    "tickers = ['LASE']"
   ]
  },
  {
   "cell_type": "code",
   "execution_count": 24,
   "id": "72d4f4d9",
   "metadata": {},
   "outputs": [],
   "source": [
    "finviz_url = 'https://finviz.com/quote.ashx?t='"
   ]
  },
  {
   "cell_type": "code",
   "execution_count": 25,
   "id": "65f37c4e",
   "metadata": {},
   "outputs": [],
   "source": [
    "\"\"\"Парсим новостные заголовки с сайта Finviz\"\"\"\n",
    "\n",
    "news_tables = {}\n",
    "for ticker in tickers:\n",
    "    url = finviz_url + ticker\n",
    "    \n",
    "    req = Request(url=url, headers = {'user-agent': 'my-app'})\n",
    "    response = urlopen(req)\n",
    "    \n",
    "    html = BeautifulSoup(response, 'html')\n",
    "    news_table = html.find(id = \"news-table\")\n",
    "    news_tables[ticker] = news_table\n",
    "    \n",
    "    "
   ]
  },
  {
   "cell_type": "markdown",
   "id": "b47a2fc0",
   "metadata": {},
   "source": [
    "Спарсиные данные"
   ]
  },
  {
   "cell_type": "code",
   "execution_count": 26,
   "id": "d4a94fdb",
   "metadata": {},
   "outputs": [],
   "source": [
    "parsed_data = []"
   ]
  },
  {
   "cell_type": "code",
   "execution_count": 27,
   "id": "3c4260dc",
   "metadata": {},
   "outputs": [],
   "source": [
    "\n",
    "for  ticker, news_table in news_tables.items():\n",
    "    \n",
    "    for index, row in enumerate(news_table.findAll('tr')):\n",
    "        \n",
    "        title = row.a.text\n",
    "        date_data = row.td.text.split(\" \")\n",
    "                \n",
    "        if len(date_data) == 1:\n",
    "            time = date_data[0]\n",
    "        if len(date_data) == 2:\n",
    "            time = date_data[1]\n",
    "            date = date_data[0]\n",
    "        \n",
    "        parsed_data.append([ticker, date, time, title])\n",
    "        "
   ]
  },
  {
   "cell_type": "code",
   "execution_count": 28,
   "id": "ea60bb94",
   "metadata": {},
   "outputs": [],
   "source": [
    "df = pd.DataFrame(parsed_data, columns = ['ticker', 'date', 'time', 'title'])"
   ]
  },
  {
   "cell_type": "code",
   "execution_count": 29,
   "id": "e92c3752",
   "metadata": {},
   "outputs": [],
   "source": [
    " vader = SentimentIntensityAnalyzer()"
   ]
  },
  {
   "cell_type": "markdown",
   "id": "b5fce189",
   "metadata": {},
   "source": [
    "Содаем столбец в ДФ где применяем функцию анализа текста и записываем итоговый результат"
   ]
  },
  {
   "cell_type": "code",
   "execution_count": 30,
   "id": "6e340634",
   "metadata": {},
   "outputs": [],
   "source": [
    "f = lambda title: vader.polarity_scores(title)['compound']\n",
    "df['score'] = df['title'].apply(f)\n",
    "df['date'] = pd.to_datetime(df['date']).dt.date"
   ]
  },
  {
   "cell_type": "markdown",
   "id": "1e51ba30",
   "metadata": {},
   "source": [
    "Строим аналитический график "
   ]
  },
  {
   "cell_type": "code",
   "execution_count": 31,
   "id": "d3676dfb",
   "metadata": {},
   "outputs": [
    {
     "data": {
      "text/html": [
       "<div>\n",
       "<style scoped>\n",
       "    .dataframe tbody tr th:only-of-type {\n",
       "        vertical-align: middle;\n",
       "    }\n",
       "\n",
       "    .dataframe tbody tr th {\n",
       "        vertical-align: top;\n",
       "    }\n",
       "\n",
       "    .dataframe thead th {\n",
       "        text-align: right;\n",
       "    }\n",
       "</style>\n",
       "<table border=\"1\" class=\"dataframe\">\n",
       "  <thead>\n",
       "    <tr style=\"text-align: right;\">\n",
       "      <th></th>\n",
       "      <th>ticker</th>\n",
       "      <th>date</th>\n",
       "      <th>time</th>\n",
       "      <th>title</th>\n",
       "      <th>score</th>\n",
       "    </tr>\n",
       "  </thead>\n",
       "  <tbody>\n",
       "    <tr>\n",
       "      <th>0</th>\n",
       "      <td>LASE</td>\n",
       "      <td>2022-12-21</td>\n",
       "      <td>07:00AM</td>\n",
       "      <td>Laser Photonics Receives Order From The Larges...</td>\n",
       "      <td>0.0000</td>\n",
       "    </tr>\n",
       "    <tr>\n",
       "      <th>1</th>\n",
       "      <td>LASE</td>\n",
       "      <td>2022-12-15</td>\n",
       "      <td>07:00AM</td>\n",
       "      <td>Laser Photonics Leases Additional Space to Sup...</td>\n",
       "      <td>0.4019</td>\n",
       "    </tr>\n",
       "    <tr>\n",
       "      <th>2</th>\n",
       "      <td>LASE</td>\n",
       "      <td>2022-12-13</td>\n",
       "      <td>07:00AM</td>\n",
       "      <td>Laser Photonics Participates in the 2022 DoD M...</td>\n",
       "      <td>0.0000</td>\n",
       "    </tr>\n",
       "    <tr>\n",
       "      <th>3</th>\n",
       "      <td>LASE</td>\n",
       "      <td>2022-12-06</td>\n",
       "      <td>07:00AM</td>\n",
       "      <td>Laser Photonics Receives Order for Its CleanTe...</td>\n",
       "      <td>0.0000</td>\n",
       "    </tr>\n",
       "    <tr>\n",
       "      <th>4</th>\n",
       "      <td>LASE</td>\n",
       "      <td>2022-12-01</td>\n",
       "      <td>07:00AM</td>\n",
       "      <td>Laser Photonics Chosen for Vocational Laser Pr...</td>\n",
       "      <td>0.0000</td>\n",
       "    </tr>\n",
       "  </tbody>\n",
       "</table>\n",
       "</div>"
      ],
      "text/plain": [
       "  ticker        date     time  \\\n",
       "0   LASE  2022-12-21  07:00AM   \n",
       "1   LASE  2022-12-15  07:00AM   \n",
       "2   LASE  2022-12-13  07:00AM   \n",
       "3   LASE  2022-12-06  07:00AM   \n",
       "4   LASE  2022-12-01  07:00AM   \n",
       "\n",
       "                                               title   score  \n",
       "0  Laser Photonics Receives Order From The Larges...  0.0000  \n",
       "1  Laser Photonics Leases Additional Space to Sup...  0.4019  \n",
       "2  Laser Photonics Participates in the 2022 DoD M...  0.0000  \n",
       "3  Laser Photonics Receives Order for Its CleanTe...  0.0000  \n",
       "4  Laser Photonics Chosen for Vocational Laser Pr...  0.0000  "
      ]
     },
     "execution_count": 31,
     "metadata": {},
     "output_type": "execute_result"
    }
   ],
   "source": [
    "df.head()"
   ]
  },
  {
   "cell_type": "code",
   "execution_count": null,
   "id": "a2539c8d",
   "metadata": {},
   "outputs": [],
   "source": []
  },
  {
   "cell_type": "code",
   "execution_count": 32,
   "id": "ac9c829b",
   "metadata": {},
   "outputs": [
    {
     "name": "stdout",
     "output_type": "stream",
     "text": [
      "0.3669\n"
     ]
    },
    {
     "data": {
      "text/plain": [
       "<Figure size 1000x1000 with 0 Axes>"
      ]
     },
     "metadata": {},
     "output_type": "display_data"
    },
    {
     "data": {
      "image/png": "[encoded data removed]",
      "text/plain": [
       "<Figure size 640x480 with 1 Axes>"
      ]
     },
     "metadata": {},
     "output_type": "display_data"
    }
   ],
   "source": [
    "print(df.query(\"score != 0\").score.mean())\n",
    "plt.figure(figsize=(10, 10))\n",
    "df.plot(x='date', y='score', kind='bar')\n",
    "plt.hlines(df.query(\"score != 0\").score.mean(), 0, df.date.iloc[-1], color = 'r', linewidth = 3,\n",
    "          linestyle = '--')\n",
    "plt.show()\n"
   ]
  },
  {
   "cell_type": "code",
   "execution_count": null,
   "id": "67261708",
   "metadata": {},
   "outputs": [],
   "source": []
  }
 ],
 "metadata": {
  "kernelspec": {
   "display_name": "Python 3 (ipykernel)",
   "language": "python",
   "name": "python3"
  },
  "language_info": {
   "codemirror_mode": {
    "name": "ipython",
    "version": 3
   },
   "file_extension": ".py",
   "mimetype": "text/x-python",
   "name": "python",
   "nbconvert_exporter": "python",
   "pygments_lexer": "ipython3",
   "version": "3.9.13"
  }
 },
 "nbformat": 4,
 "nbformat_minor": 5
}
