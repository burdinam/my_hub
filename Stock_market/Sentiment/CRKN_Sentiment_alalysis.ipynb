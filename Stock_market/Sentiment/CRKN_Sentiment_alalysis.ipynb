{
 "cells": [
  {
   "cell_type": "markdown",
   "id": "fa965239",
   "metadata": {},
   "source": [
    "Установка библеотек"
   ]
  },
  {
   "cell_type": "code",
   "execution_count": 8,
   "id": "f69e3ccd",
   "metadata": {},
   "outputs": [],
   "source": [
    "import pandas as pd\n",
    "from urllib.request import urlopen, Request\n",
    "from bs4 import BeautifulSoup\n",
    "from nltk.sentiment.vader import SentimentIntensityAnalyzer\n",
    "import nltk\n",
    "import seaborn as sns\n",
    "import matplotlib.pyplot as plt\n",
    "\n"
   ]
  },
  {
   "cell_type": "markdown",
   "id": "d5766a11",
   "metadata": {},
   "source": [
    "Запрос информации"
   ]
  },
  {
   "cell_type": "code",
   "execution_count": 9,
   "id": "485d5dc5",
   "metadata": {},
   "outputs": [],
   "source": [
    "tickers = ['CRKN']"
   ]
  },
  {
   "cell_type": "code",
   "execution_count": 10,
   "id": "72d4f4d9",
   "metadata": {},
   "outputs": [],
   "source": [
    "finviz_url = 'https://finviz.com/quote.ashx?t='"
   ]
  },
  {
   "cell_type": "code",
   "execution_count": 11,
   "id": "65f37c4e",
   "metadata": {},
   "outputs": [],
   "source": [
    "\"\"\"Парсим новостные заголовки с сайта Finviz\"\"\"\n",
    "\n",
    "news_tables = {}\n",
    "for ticker in tickers:\n",
    "    url = finviz_url + ticker\n",
    "    \n",
    "    req = Request(url=url, headers = {'user-agent': 'my-app'})\n",
    "    response = urlopen(req)\n",
    "    \n",
    "    html = BeautifulSoup(response, 'html')\n",
    "    news_table = html.find(id = \"news-table\")\n",
    "    news_tables[ticker] = news_table\n",
    "    \n",
    "    "
   ]
  },
  {
   "cell_type": "markdown",
   "id": "b47a2fc0",
   "metadata": {},
   "source": [
    "Спарсиные данные"
   ]
  },
  {
   "cell_type": "code",
   "execution_count": 12,
   "id": "d4a94fdb",
   "metadata": {},
   "outputs": [],
   "source": [
    "parsed_data = []"
   ]
  },
  {
   "cell_type": "code",
   "execution_count": 13,
   "id": "3c4260dc",
   "metadata": {},
   "outputs": [
    {
     "ename": "AttributeError",
     "evalue": "'NoneType' object has no attribute 'text'",
     "output_type": "error",
     "traceback": [
      "\u001b[1;31m---------------------------------------------------------------------------\u001b[0m",
      "\u001b[1;31mAttributeError\u001b[0m                            Traceback (most recent call last)",
      "\u001b[1;32m~\\AppData\\Local\\Temp\\ipykernel_8296\\827843257.py\u001b[0m in \u001b[0;36m<module>\u001b[1;34m\u001b[0m\n\u001b[0;32m      3\u001b[0m     \u001b[1;32mfor\u001b[0m \u001b[0mindex\u001b[0m\u001b[1;33m,\u001b[0m \u001b[0mrow\u001b[0m \u001b[1;32min\u001b[0m \u001b[0menumerate\u001b[0m\u001b[1;33m(\u001b[0m\u001b[0mnews_table\u001b[0m\u001b[1;33m.\u001b[0m\u001b[0mfindAll\u001b[0m\u001b[1;33m(\u001b[0m\u001b[1;34m'tr'\u001b[0m\u001b[1;33m)\u001b[0m\u001b[1;33m)\u001b[0m\u001b[1;33m:\u001b[0m\u001b[1;33m\u001b[0m\u001b[1;33m\u001b[0m\u001b[0m\n\u001b[0;32m      4\u001b[0m \u001b[1;33m\u001b[0m\u001b[0m\n\u001b[1;32m----> 5\u001b[1;33m         \u001b[0mtitle\u001b[0m \u001b[1;33m=\u001b[0m \u001b[0mrow\u001b[0m\u001b[1;33m.\u001b[0m\u001b[0ma\u001b[0m\u001b[1;33m.\u001b[0m\u001b[0mtext\u001b[0m\u001b[1;33m\u001b[0m\u001b[1;33m\u001b[0m\u001b[0m\n\u001b[0m\u001b[0;32m      6\u001b[0m         \u001b[0mdate_data\u001b[0m \u001b[1;33m=\u001b[0m \u001b[0mrow\u001b[0m\u001b[1;33m.\u001b[0m\u001b[0mtd\u001b[0m\u001b[1;33m.\u001b[0m\u001b[0mtext\u001b[0m\u001b[1;33m.\u001b[0m\u001b[0msplit\u001b[0m\u001b[1;33m(\u001b[0m\u001b[1;34m\" \"\u001b[0m\u001b[1;33m)\u001b[0m\u001b[1;33m\u001b[0m\u001b[1;33m\u001b[0m\u001b[0m\n\u001b[0;32m      7\u001b[0m \u001b[1;33m\u001b[0m\u001b[0m\n",
      "\u001b[1;31mAttributeError\u001b[0m: 'NoneType' object has no attribute 'text'"
     ]
    }
   ],
   "source": [
    "\n",
    "for  ticker, news_table in news_tables.items():\n",
    "    \n",
    "    for index, row in enumerate(news_table.findAll('tr')):\n",
    "        \n",
    "        title = row.a.text\n",
    "        date_data = row.td.text.split(\" \")\n",
    "                \n",
    "        if len(date_data) == 1:\n",
    "            time = date_data[0]\n",
    "        if len(date_data) == 2:\n",
    "            time = date_data[1]\n",
    "            date = date_data[0]\n",
    "        \n",
    "        parsed_data.append([ticker, date, time, title])\n",
    "        "
   ]
  },
  {
   "cell_type": "code",
   "execution_count": null,
   "id": "ea60bb94",
   "metadata": {},
   "outputs": [],
   "source": [
    "df = pd.DataFrame(parsed_data, columns = ['ticker', 'date', 'time', 'title'])"
   ]
  },
  {
   "cell_type": "code",
   "execution_count": 7,
   "id": "e92c3752",
   "metadata": {},
   "outputs": [],
   "source": [
    " vader = SentimentIntensityAnalyzer()"
   ]
  },
  {
   "cell_type": "markdown",
   "id": "b5fce189",
   "metadata": {},
   "source": [
    "Содаем столбец в ДФ где применяем функцию анализа текста и записываем итоговый результат"
   ]
  },
  {
   "cell_type": "code",
   "execution_count": 21,
   "id": "6e340634",
   "metadata": {},
   "outputs": [],
   "source": [
    "f = lambda title: vader.polarity_scores(title)['compound']\n",
    "df['score'] = df['title'].apply(f)\n",
    "df['date'] = pd.to_datetime(df['date']).dt.date"
   ]
  },
  {
   "cell_type": "markdown",
   "id": "1e51ba30",
   "metadata": {},
   "source": [
    "Строим аналитический график "
   ]
  },
  {
   "cell_type": "code",
   "execution_count": 22,
   "id": "d3676dfb",
   "metadata": {},
   "outputs": [
    {
     "data": {
      "text/html": [
       "<div>\n",
       "<style scoped>\n",
       "    .dataframe tbody tr th:only-of-type {\n",
       "        vertical-align: middle;\n",
       "    }\n",
       "\n",
       "    .dataframe tbody tr th {\n",
       "        vertical-align: top;\n",
       "    }\n",
       "\n",
       "    .dataframe thead th {\n",
       "        text-align: right;\n",
       "    }\n",
       "</style>\n",
       "<table border=\"1\" class=\"dataframe\">\n",
       "  <thead>\n",
       "    <tr style=\"text-align: right;\">\n",
       "      <th></th>\n",
       "      <th>ticker</th>\n",
       "      <th>date</th>\n",
       "      <th>time</th>\n",
       "      <th>title</th>\n",
       "      <th>score</th>\n",
       "    </tr>\n",
       "  </thead>\n",
       "  <tbody>\n",
       "    <tr>\n",
       "      <th>0</th>\n",
       "      <td>CRKN</td>\n",
       "      <td>2022-12-07</td>\n",
       "      <td>11:03AM</td>\n",
       "      <td>Crown Electrokinetics Urges Shareholders to Vo...</td>\n",
       "      <td>0.0</td>\n",
       "    </tr>\n",
       "    <tr>\n",
       "      <th>1</th>\n",
       "      <td>CRKN</td>\n",
       "      <td>2022-11-14</td>\n",
       "      <td>08:30AM</td>\n",
       "      <td>Crown Electrokinetics Third Quarter 2022 Earni...</td>\n",
       "      <td>0.0</td>\n",
       "    </tr>\n",
       "    <tr>\n",
       "      <th>2</th>\n",
       "      <td>CRKN</td>\n",
       "      <td>2022-11-11</td>\n",
       "      <td>08:00AM</td>\n",
       "      <td>Crown Electrokinetics Corp. Reports Third Quar...</td>\n",
       "      <td>0.0</td>\n",
       "    </tr>\n",
       "    <tr>\n",
       "      <th>3</th>\n",
       "      <td>CRKN</td>\n",
       "      <td>2022-11-01</td>\n",
       "      <td>10:15AM</td>\n",
       "      <td>Crown Electrokinetics to Announce Third Quarte...</td>\n",
       "      <td>0.0</td>\n",
       "    </tr>\n",
       "    <tr>\n",
       "      <th>4</th>\n",
       "      <td>CRKN</td>\n",
       "      <td>2022-10-31</td>\n",
       "      <td>08:00AM</td>\n",
       "      <td>Crown Electrokinetics Issues Letter to Shareho...</td>\n",
       "      <td>0.0</td>\n",
       "    </tr>\n",
       "  </tbody>\n",
       "</table>\n",
       "</div>"
      ],
      "text/plain": [
       "  ticker        date     time  \\\n",
       "0   CRKN  2022-12-07  11:03AM   \n",
       "1   CRKN  2022-11-14  08:30AM   \n",
       "2   CRKN  2022-11-11  08:00AM   \n",
       "3   CRKN  2022-11-01  10:15AM   \n",
       "4   CRKN  2022-10-31  08:00AM   \n",
       "\n",
       "                                               title  score  \n",
       "0  Crown Electrokinetics Urges Shareholders to Vo...    0.0  \n",
       "1  Crown Electrokinetics Third Quarter 2022 Earni...    0.0  \n",
       "2  Crown Electrokinetics Corp. Reports Third Quar...    0.0  \n",
       "3  Crown Electrokinetics to Announce Third Quarte...    0.0  \n",
       "4  Crown Electrokinetics Issues Letter to Shareho...    0.0  "
      ]
     },
     "execution_count": 22,
     "metadata": {},
     "output_type": "execute_result"
    }
   ],
   "source": [
    "df.head()"
   ]
  },
  {
   "cell_type": "code",
   "execution_count": 24,
   "id": "ac9c829b",
   "metadata": {},
   "outputs": [
    {
     "name": "stdout",
     "output_type": "stream",
     "text": [
      "0.36222173913043476\n"
     ]
    },
    {
     "data": {
      "text/plain": [
       "<Figure size 1000x1000 with 0 Axes>"
      ]
     },
     "metadata": {},
     "output_type": "display_data"
    },
    {
     "data": {
      "image/png": "[encoded data removed]",
      "text/plain": [
       "<Figure size 640x480 with 1 Axes>"
      ]
     },
     "metadata": {},
     "output_type": "display_data"
    }
   ],
   "source": [
    "print(df.query(\"score != 0\").score.mean())\n",
    "plt.figure(figsize=(10, 10))\n",
    "df.plot(x='date', y='score', kind='bar')\n",
    "plt.hlines(df.query(\"score != 0\").score.mean(), 0, df.date.iloc[-1], color = 'r', linewidth = 3,\n",
    "          linestyle = '--')\n",
    "plt.show()\n"
   ]
  },
  {
   "cell_type": "code",
   "execution_count": null,
   "id": "67261708",
   "metadata": {},
   "outputs": [],
   "source": []
  },
  {
   "cell_type": "code",
   "execution_count": null,
   "id": "f608427c",
   "metadata": {},
   "outputs": [],
   "source": []
  }
 ],
 "metadata": {
  "kernelspec": {
   "display_name": "Python 3 (ipykernel)",
   "language": "python",
   "name": "python3"
  },
  "language_info": {
   "codemirror_mode": {
    "name": "ipython",
    "version": 3
   },
   "file_extension": ".py",
   "mimetype": "text/x-python",
   "name": "python",
   "nbconvert_exporter": "python",
   "pygments_lexer": "ipython3",
   "version": "3.9.13"
  }
 },
 "nbformat": 4,
 "nbformat_minor": 5
}
