{
 "cells": [
  {
   "cell_type": "code",
   "execution_count": 110,
   "id": "9013d04a",
   "metadata": {},
   "outputs": [],
   "source": [
    "import pandas as pd\n",
    "import scipy\n",
    "\n",
    "import matplotlib as plt\n",
    "import seaborn as sns"
   ]
  },
  {
   "cell_type": "code",
   "execution_count": 3,
   "id": "b84b152b",
   "metadata": {},
   "outputs": [],
   "source": [
    "courier = pd.read_csv(\"C:/Users/Qwerty/ANALYSIS/my_hub/STATISTICS/data_folder/courier.csv\")"
   ]
  },
  {
   "cell_type": "code",
   "execution_count": 4,
   "id": "1d725b10",
   "metadata": {},
   "outputs": [
    {
     "name": "stdout",
     "output_type": "stream",
     "text": [
      "<class 'pandas.core.frame.DataFrame'>\n",
      "RangeIndex: 20196 entries, 0 to 20195\n",
      "Data columns (total 4 columns):\n",
      " #   Column            Non-Null Count  Dtype  \n",
      "---  ------            --------------  -----  \n",
      " 0   order_id          20196 non-null  int64  \n",
      " 1   delivery_time     20196 non-null  float64\n",
      " 2   district          20196 non-null  object \n",
      " 3   experiment_group  20196 non-null  object \n",
      "dtypes: float64(1), int64(1), object(2)\n",
      "memory usage: 631.2+ KB\n"
     ]
    }
   ],
   "source": [
    "courier.info()"
   ]
  },
  {
   "cell_type": "code",
   "execution_count": 5,
   "id": "ad67bead",
   "metadata": {},
   "outputs": [
    {
     "data": {
      "text/html": [
       "<div>\n",
       "<style scoped>\n",
       "    .dataframe tbody tr th:only-of-type {\n",
       "        vertical-align: middle;\n",
       "    }\n",
       "\n",
       "    .dataframe tbody tr th {\n",
       "        vertical-align: top;\n",
       "    }\n",
       "\n",
       "    .dataframe thead th {\n",
       "        text-align: right;\n",
       "    }\n",
       "</style>\n",
       "<table border=\"1\" class=\"dataframe\">\n",
       "  <thead>\n",
       "    <tr style=\"text-align: right;\">\n",
       "      <th></th>\n",
       "      <th>order_id</th>\n",
       "      <th>delivery_time</th>\n",
       "      <th>district</th>\n",
       "      <th>experiment_group</th>\n",
       "    </tr>\n",
       "  </thead>\n",
       "  <tbody>\n",
       "    <tr>\n",
       "      <th>0</th>\n",
       "      <td>3159</td>\n",
       "      <td>44.0</td>\n",
       "      <td>Purlieus</td>\n",
       "      <td>control</td>\n",
       "    </tr>\n",
       "    <tr>\n",
       "      <th>1</th>\n",
       "      <td>10426</td>\n",
       "      <td>51.0</td>\n",
       "      <td>Purlieus</td>\n",
       "      <td>control</td>\n",
       "    </tr>\n",
       "    <tr>\n",
       "      <th>2</th>\n",
       "      <td>9155</td>\n",
       "      <td>46.0</td>\n",
       "      <td>Purlieus</td>\n",
       "      <td>control</td>\n",
       "    </tr>\n",
       "    <tr>\n",
       "      <th>3</th>\n",
       "      <td>10699</td>\n",
       "      <td>34.0</td>\n",
       "      <td>Purlieus</td>\n",
       "      <td>control</td>\n",
       "    </tr>\n",
       "    <tr>\n",
       "      <th>4</th>\n",
       "      <td>10061</td>\n",
       "      <td>43.0</td>\n",
       "      <td>Purlieus</td>\n",
       "      <td>control</td>\n",
       "    </tr>\n",
       "  </tbody>\n",
       "</table>\n",
       "</div>"
      ],
      "text/plain": [
       "   order_id  delivery_time  district experiment_group\n",
       "0      3159           44.0  Purlieus          control\n",
       "1     10426           51.0  Purlieus          control\n",
       "2      9155           46.0  Purlieus          control\n",
       "3     10699           34.0  Purlieus          control\n",
       "4     10061           43.0  Purlieus          control"
      ]
     },
     "execution_count": 5,
     "metadata": {},
     "output_type": "execute_result"
    }
   ],
   "source": [
    "courier.head()"
   ]
  },
  {
   "cell_type": "code",
   "execution_count": 6,
   "id": "e741177e",
   "metadata": {},
   "outputs": [
    {
     "data": {
      "text/plain": [
       "array(['control', 'test'], dtype=object)"
      ]
     },
     "execution_count": 6,
     "metadata": {},
     "output_type": "execute_result"
    }
   ],
   "source": [
    "courier.experiment_group.unique()"
   ]
  },
  {
   "cell_type": "code",
   "execution_count": 7,
   "id": "5b290f29",
   "metadata": {},
   "outputs": [
    {
     "data": {
      "text/plain": [
       "array(['Purlieus', 'Central', 'Suburb'], dtype=object)"
      ]
     },
     "execution_count": 7,
     "metadata": {},
     "output_type": "execute_result"
    }
   ],
   "source": [
    "courier.district.unique()"
   ]
  },
  {
   "cell_type": "code",
   "execution_count": 15,
   "id": "696c7890",
   "metadata": {},
   "outputs": [
    {
     "data": {
      "text/plain": [
       "Purlieus    16960\n",
       "Central      2396\n",
       "Suburb        840\n",
       "Name: district, dtype: int64"
      ]
     },
     "execution_count": 15,
     "metadata": {},
     "output_type": "execute_result"
    }
   ],
   "source": [
    "courier.district.value_counts()"
   ]
  },
  {
   "cell_type": "code",
   "execution_count": 96,
   "id": "8961b41c",
   "metadata": {
    "scrolled": true
   },
   "outputs": [
    {
     "data": {
      "text/plain": [
       "<AxesSubplot:xlabel='district', ylabel='delivery_time'>"
      ]
     },
     "execution_count": 96,
     "metadata": {},
     "output_type": "execute_result"
    },
    {
     "data": {
      "image/png": "[encoded data removed]",
      "text/plain": [
       "<Figure size 640x480 with 1 Axes>"
      ]
     },
     "metadata": {},
     "output_type": "display_data"
    }
   ],
   "source": [
    "sns.boxenplot(data=courier, x=\"district\", y=\"delivery_time\", hue=\"experiment_group\")"
   ]
  },
  {
   "cell_type": "code",
   "execution_count": 100,
   "id": "dd2d1025",
   "metadata": {},
   "outputs": [],
   "source": [
    "# test/control difference"
   ]
  },
  {
   "cell_type": "code",
   "execution_count": 97,
   "id": "959a8ded",
   "metadata": {},
   "outputs": [
    {
     "data": {
      "text/plain": [
       "test       10104\n",
       "control    10092\n",
       "Name: experiment_group, dtype: int64"
      ]
     },
     "execution_count": 97,
     "metadata": {},
     "output_type": "execute_result"
    }
   ],
   "source": [
    "courier.experiment_group.value_counts()"
   ]
  },
  {
   "cell_type": "code",
   "execution_count": 99,
   "id": "33c9d950",
   "metadata": {},
   "outputs": [
    {
     "data": {
      "text/plain": [
       "12"
      ]
     },
     "execution_count": 99,
     "metadata": {},
     "output_type": "execute_result"
    }
   ],
   "source": [
    "courier.experiment_group.value_counts()[0] - courier.experiment_group.value_counts()[1]"
   ]
  },
  {
   "cell_type": "code",
   "execution_count": 101,
   "id": "9cf384bb",
   "metadata": {},
   "outputs": [],
   "source": [
    "# Sampling before normality test"
   ]
  },
  {
   "cell_type": "code",
   "execution_count": 102,
   "id": "1b3dabbe",
   "metadata": {},
   "outputs": [],
   "source": [
    "control_df = courier[courier['experiment_group'] == 'control']['delivery_time'].sample(1000, random_state=17)"
   ]
  },
  {
   "cell_type": "code",
   "execution_count": 148,
   "id": "f169c0a4",
   "metadata": {},
   "outputs": [
    {
     "data": {
      "text/plain": [
       "1000"
      ]
     },
     "execution_count": 148,
     "metadata": {},
     "output_type": "execute_result"
    }
   ],
   "source": [
    "len(control_df)"
   ]
  },
  {
   "cell_type": "code",
   "execution_count": 103,
   "id": "beb80df5",
   "metadata": {},
   "outputs": [],
   "source": [
    "test_df = courier[courier['experiment_group'] == 'test']['delivery_time'].sample(1000, random_state=17)"
   ]
  },
  {
   "cell_type": "code",
   "execution_count": 105,
   "id": "bedc2771",
   "metadata": {},
   "outputs": [],
   "source": [
    "# SHAPIRO-WILK TEST"
   ]
  },
  {
   "cell_type": "code",
   "execution_count": 113,
   "id": "44de18ec",
   "metadata": {},
   "outputs": [],
   "source": [
    "# for control_df"
   ]
  },
  {
   "cell_type": "code",
   "execution_count": 111,
   "id": "d24c4fe4",
   "metadata": {},
   "outputs": [
    {
     "data": {
      "text/plain": [
       "ShapiroResult(statistic=0.9974724054336548, pvalue=0.12408281117677689)"
      ]
     },
     "execution_count": 111,
     "metadata": {},
     "output_type": "execute_result"
    }
   ],
   "source": [
    "scipy.stats.shapiro(control_df)"
   ]
  },
  {
   "cell_type": "code",
   "execution_count": 112,
   "id": "74e7beab",
   "metadata": {},
   "outputs": [
    {
     "data": {
      "text/plain": [
       "NormaltestResult(statistic=0.2162804567751552, pvalue=0.8975017323850046)"
      ]
     },
     "execution_count": 112,
     "metadata": {},
     "output_type": "execute_result"
    }
   ],
   "source": [
    "scipy.stats.normaltest(control_df)"
   ]
  },
  {
   "cell_type": "code",
   "execution_count": 115,
   "id": "bb5d65b1",
   "metadata": {},
   "outputs": [],
   "source": [
    "# for test_df"
   ]
  },
  {
   "cell_type": "code",
   "execution_count": 116,
   "id": "b5de040b",
   "metadata": {},
   "outputs": [
    {
     "data": {
      "text/plain": [
       "ShapiroResult(statistic=0.9975473880767822, pvalue=0.14001426100730896)"
      ]
     },
     "execution_count": 116,
     "metadata": {},
     "output_type": "execute_result"
    }
   ],
   "source": [
    "scipy.stats.shapiro(test_df)"
   ]
  },
  {
   "cell_type": "code",
   "execution_count": 117,
   "id": "a9077fba",
   "metadata": {},
   "outputs": [
    {
     "data": {
      "text/plain": [
       "NormaltestResult(statistic=0.5281684126751597, pvalue=0.7679088741402349)"
      ]
     },
     "execution_count": 117,
     "metadata": {},
     "output_type": "execute_result"
    }
   ],
   "source": [
    "scipy.stats.normaltest(test_df)"
   ]
  },
  {
   "cell_type": "code",
   "execution_count": 118,
   "id": "34e75d49",
   "metadata": {},
   "outputs": [],
   "source": [
    "# High range of pvalue means accordance of normality test."
   ]
  },
  {
   "cell_type": "code",
   "execution_count": 130,
   "id": "02f28b52",
   "metadata": {},
   "outputs": [
    {
     "data": {
      "text/plain": [
       "<AxesSubplot:>"
      ]
     },
     "execution_count": 130,
     "metadata": {},
     "output_type": "execute_result"
    },
    {
     "data": {
      "image/png": "[encoded data removed]",
      "text/plain": [
       "<Figure size 640x480 with 1 Axes>"
      ]
     },
     "metadata": {},
     "output_type": "display_data"
    }
   ],
   "source": [
    "control_df.hist()"
   ]
  },
  {
   "cell_type": "code",
   "execution_count": 123,
   "id": "9c80fc8d",
   "metadata": {},
   "outputs": [
    {
     "data": {
      "text/plain": [
       "<AxesSubplot:>"
      ]
     },
     "execution_count": 123,
     "metadata": {},
     "output_type": "execute_result"
    },
    {
     "data": {
      "image/png": "[encoded data removed]",
      "text/plain": [
       "<Figure size 640x480 with 1 Axes>"
      ]
     },
     "metadata": {},
     "output_type": "display_data"
    }
   ],
   "source": [
    "test_df.hist()"
   ]
  },
  {
   "cell_type": "code",
   "execution_count": null,
   "id": "56d8ad28",
   "metadata": {},
   "outputs": [],
   "source": [
    "# STUDENT'S T-TEST. Comparisson of mean values in control/test groups."
   ]
  },
  {
   "cell_type": "code",
   "execution_count": 131,
   "id": "4d18685c",
   "metadata": {},
   "outputs": [
    {
     "data": {
      "text/plain": [
       "Ttest_indResult(statistic=43.03582663183714, pvalue=0.0)"
      ]
     },
     "execution_count": 131,
     "metadata": {},
     "output_type": "execute_result"
    }
   ],
   "source": [
    "stats.ttest_ind(courier.query('experiment_group == \"control\"').delivery_time, courier.query('experiment_group == \"test\"').delivery_time)"
   ]
  },
  {
   "cell_type": "code",
   "execution_count": 132,
   "id": "b0334f23",
   "metadata": {},
   "outputs": [],
   "source": [
    "# p value makes the test result statistically significant. Mean values differ."
   ]
  },
  {
   "cell_type": "code",
   "execution_count": 133,
   "id": "9287988a",
   "metadata": {},
   "outputs": [],
   "source": [
    "# -------------"
   ]
  },
  {
   "cell_type": "code",
   "execution_count": 142,
   "id": "127c3db2",
   "metadata": {},
   "outputs": [],
   "source": [
    "# Mean time difference between test/control groups, %%."
   ]
  },
  {
   "cell_type": "code",
   "execution_count": 136,
   "id": "65baaf7e",
   "metadata": {},
   "outputs": [],
   "source": [
    "time_mean_control = courier.query('experiment_group == \"control\"').delivery_time.mean()"
   ]
  },
  {
   "cell_type": "code",
   "execution_count": 137,
   "id": "0040a329",
   "metadata": {},
   "outputs": [],
   "source": [
    "time_mean_test = courier.query('experiment_group == \"test\"').delivery_time.mean()"
   ]
  },
  {
   "cell_type": "code",
   "execution_count": 147,
   "id": "17b5b6bd",
   "metadata": {},
   "outputs": [
    {
     "data": {
      "text/plain": [
       "-13.35"
      ]
     },
     "execution_count": 147,
     "metadata": {},
     "output_type": "execute_result"
    }
   ],
   "source": [
    "round((time_mean_test / time_mean_control -1) * 100, 2)"
   ]
  },
  {
   "cell_type": "code",
   "execution_count": null,
   "id": "f878d84f",
   "metadata": {},
   "outputs": [],
   "source": []
  }
 ],
 "metadata": {
  "kernelspec": {
   "display_name": "Python 3 (ipykernel)",
   "language": "python",
   "name": "python3"
  },
  "language_info": {
   "codemirror_mode": {
    "name": "ipython",
    "version": 3
   },
   "file_extension": ".py",
   "mimetype": "text/x-python",
   "name": "python",
   "nbconvert_exporter": "python",
   "pygments_lexer": "ipython3",
   "version": "3.9.13"
  }
 },
 "nbformat": 4,
 "nbformat_minor": 5
}
